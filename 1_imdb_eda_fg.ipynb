{
 "cells": [
  {
   "cell_type": "markdown",
   "metadata": {},
   "source": [
    "# Natural Language Processing with IMDB\n",
    "\n",
    "<br></br>\n",
    "<img src=\"https://upload.wikimedia.org/wikipedia/commons/thumb/6/69/IMDB_Logo_2016.svg/800px-IMDB_Logo_2016.svg.png\" alt=\"Rotten Tomatoes Logo\" title=\"RT Logo\" />\n",
    "\n",
    "## Project Overview\n",
    "> from https://www.kaggle.com/c/word2vec-nlp-tutorial\n",
    "\n",
    "### Data Set\n",
    "The labeled data set consists of 50,000 IMDB movie reviews, specially selected for sentiment analysis. The sentiment of reviews is binary, meaning the IMDB rating < 5 results in a sentiment score of 0, and rating >=7 have a sentiment score of 1. No individual movie has more than 30 reviews. The 25,000 review labeled training set does not include any of the same movies as the 25,000 review test set. In addition, there are another 50,000 IMDB reviews provided without any rating labels.\n",
    "\n",
    "### File descriptions\n",
    "- labeledTrainData - The labeled training set. The file is tab-delimited and has a header row followed by 25,000 - - rows containing an id, sentiment, and text for each review.  \n",
    "- testData - The test set. The tab-delimited file has a header row followed by 25,000 rows containing an id and text for each review. Your task is to predict the sentiment for each one. \n",
    "- unlabeledTrainData - An extra training set with no labels. The tab-delimited file has a header row followed by 50,000 rows containing an id and text for each review. \n",
    "- sampleSubmission - A comma-delimited sample submission file in the correct format.\n",
    "\n",
    "### Data fields\n",
    "- id - Unique ID of each review\n",
    "- sentiment - Sentiment of the review; 1 for positive reviews and 0 for negative reviews\n",
    "- review - Text of the review\n",
    "\n",
    "# Notebook Contents\n",
    "## Part I: Data Cleaning\n",
    "## Part II:  Feature Generation\n",
    "## Part III: Model Selection & Prediction"
   ]
  },
  {
   "cell_type": "markdown",
   "metadata": {},
   "source": [
    "# Part I: Data Cleaning with Beautiful Soup\n",
    "\n",
    "The data for each review is pulled from imdb as raw html. To make each review accessible for feature generation, the reviews must have their html components removed as well as filtered for stop word removal. After these data cleaning steps, the reviews will consist of meaningful words that can be processed with natural language methods."
   ]
  },
  {
   "cell_type": "code",
   "execution_count": 1,
   "metadata": {},
   "outputs": [],
   "source": [
    "#import required packages\n",
    "#basics\n",
    "import pandas as pd \n",
    "import numpy as np\n",
    "\n",
    "#misc\n",
    "import gc\n",
    "import time\n",
    "import warnings\n",
    "\n",
    "#stats\n",
    "from scipy.misc import imread\n",
    "from scipy import sparse\n",
    "import scipy.stats as ss\n",
    "\n",
    "#viz\n",
    "import matplotlib.pyplot as plt\n",
    "import matplotlib.gridspec as gridspec \n",
    "import seaborn as sns\n",
    "\n",
    "#nlp\n",
    "import string\n",
    "import re    #for regex\n",
    "import nltk\n",
    "from nltk.corpus import stopwords\n",
    "from nltk import pos_tag\n",
    "from nltk.stem.wordnet import WordNetLemmatizer \n",
    "from nltk.tokenize import word_tokenize\n",
    "\n",
    "\n",
    "#FeatureEngineering\n",
    "from sklearn.feature_extraction.text import TfidfVectorizer, CountVectorizer, HashingVectorizer\n",
    "from sklearn.decomposition import TruncatedSVD\n",
    "from sklearn.base import BaseEstimator, ClassifierMixin\n",
    "from sklearn.utils.validation import check_X_y, check_is_fitted\n",
    "from sklearn.linear_model import LogisticRegression\n",
    "from sklearn import metrics\n",
    "from sklearn.metrics import log_loss\n",
    "from sklearn.model_selection import StratifiedKFold\n",
    "from sklearn.model_selection import train_test_split\n",
    "\n",
    "#settings\n",
    "start_time=time.time()\n",
    "color = sns.color_palette()\n",
    "sns.set_style(\"dark\")\n",
    "eng_stopwords = set(stopwords.words(\"english\"))\n",
    "warnings.filterwarnings(\"ignore\")\n",
    "\n",
    "lem = WordNetLemmatizer()\n",
    "tokenizer=TweetTokenizer()\n",
    "\n",
    "%matplotlib inline\n"
   ]
  },
  {
   "cell_type": "code",
   "execution_count": 6,
   "metadata": {},
   "outputs": [],
   "source": [
    "train = pd.read_csv(\"datasets/labeledTrainData.tsv\", header=0, \\\n",
    "                    delimiter=\"\\t\", quoting=3,encoding='utf-8') \n",
    "test = pd.read_csv(\"datasets/testData.tsv\", header=0, \\\n",
    "                    delimiter=\"\\t\", quoting=3,encoding='utf-8')"
   ]
  },
  {
   "cell_type": "code",
   "execution_count": 4,
   "metadata": {},
   "outputs": [
    {
     "name": "stdout",
     "output_type": "stream",
     "text": [
      "id           False\n",
      "sentiment    False\n",
      "review       False\n",
      "dtype: bool\n"
     ]
    },
    {
     "data": {
      "text/html": [
       "<div>\n",
       "<style scoped>\n",
       "    .dataframe tbody tr th:only-of-type {\n",
       "        vertical-align: middle;\n",
       "    }\n",
       "\n",
       "    .dataframe tbody tr th {\n",
       "        vertical-align: top;\n",
       "    }\n",
       "\n",
       "    .dataframe thead th {\n",
       "        text-align: right;\n",
       "    }\n",
       "</style>\n",
       "<table border=\"1\" class=\"dataframe\">\n",
       "  <thead>\n",
       "    <tr style=\"text-align: right;\">\n",
       "      <th></th>\n",
       "      <th>id</th>\n",
       "      <th>sentiment</th>\n",
       "      <th>review</th>\n",
       "    </tr>\n",
       "  </thead>\n",
       "  <tbody>\n",
       "    <tr>\n",
       "      <th>0</th>\n",
       "      <td>\"5814_8\"</td>\n",
       "      <td>1</td>\n",
       "      <td>\"With all this stuff going down at the moment ...</td>\n",
       "    </tr>\n",
       "    <tr>\n",
       "      <th>1</th>\n",
       "      <td>\"2381_9\"</td>\n",
       "      <td>1</td>\n",
       "      <td>\"\\\"The Classic War of the Worlds\\\" by Timothy ...</td>\n",
       "    </tr>\n",
       "    <tr>\n",
       "      <th>2</th>\n",
       "      <td>\"7759_3\"</td>\n",
       "      <td>0</td>\n",
       "      <td>\"The film starts with a manager (Nicholas Bell...</td>\n",
       "    </tr>\n",
       "    <tr>\n",
       "      <th>3</th>\n",
       "      <td>\"3630_4\"</td>\n",
       "      <td>0</td>\n",
       "      <td>\"It must be assumed that those who praised thi...</td>\n",
       "    </tr>\n",
       "    <tr>\n",
       "      <th>4</th>\n",
       "      <td>\"9495_8\"</td>\n",
       "      <td>1</td>\n",
       "      <td>\"Superbly trashy and wondrously unpretentious ...</td>\n",
       "    </tr>\n",
       "  </tbody>\n",
       "</table>\n",
       "</div>"
      ],
      "text/plain": [
       "         id  sentiment                                             review\n",
       "0  \"5814_8\"          1  \"With all this stuff going down at the moment ...\n",
       "1  \"2381_9\"          1  \"\\\"The Classic War of the Worlds\\\" by Timothy ...\n",
       "2  \"7759_3\"          0  \"The film starts with a manager (Nicholas Bell...\n",
       "3  \"3630_4\"          0  \"It must be assumed that those who praised thi...\n",
       "4  \"9495_8\"          1  \"Superbly trashy and wondrously unpretentious ..."
      ]
     },
     "execution_count": 4,
     "metadata": {},
     "output_type": "execute_result"
    }
   ],
   "source": [
    "# inspecting training data\n",
    "print train.isnull().any()\n",
    "train.head()"
   ]
  },
  {
   "cell_type": "code",
   "execution_count": 7,
   "metadata": {},
   "outputs": [
    {
     "data": {
      "text/html": [
       "<div>\n",
       "<style scoped>\n",
       "    .dataframe tbody tr th:only-of-type {\n",
       "        vertical-align: middle;\n",
       "    }\n",
       "\n",
       "    .dataframe tbody tr th {\n",
       "        vertical-align: top;\n",
       "    }\n",
       "\n",
       "    .dataframe thead th {\n",
       "        text-align: right;\n",
       "    }\n",
       "</style>\n",
       "<table border=\"1\" class=\"dataframe\">\n",
       "  <thead>\n",
       "    <tr style=\"text-align: right;\">\n",
       "      <th></th>\n",
       "      <th>id</th>\n",
       "      <th>review</th>\n",
       "    </tr>\n",
       "  </thead>\n",
       "  <tbody>\n",
       "    <tr>\n",
       "      <th>0</th>\n",
       "      <td>\"12311_10\"</td>\n",
       "      <td>\"Naturally in a film who's main themes are of ...</td>\n",
       "    </tr>\n",
       "    <tr>\n",
       "      <th>1</th>\n",
       "      <td>\"8348_2\"</td>\n",
       "      <td>\"This movie is a disaster within a disaster fi...</td>\n",
       "    </tr>\n",
       "    <tr>\n",
       "      <th>2</th>\n",
       "      <td>\"5828_4\"</td>\n",
       "      <td>\"All in all, this is a movie for kids. We saw ...</td>\n",
       "    </tr>\n",
       "    <tr>\n",
       "      <th>3</th>\n",
       "      <td>\"7186_2\"</td>\n",
       "      <td>\"Afraid of the Dark left me with the impressio...</td>\n",
       "    </tr>\n",
       "    <tr>\n",
       "      <th>4</th>\n",
       "      <td>\"12128_7\"</td>\n",
       "      <td>\"A very accurate depiction of small time mob l...</td>\n",
       "    </tr>\n",
       "  </tbody>\n",
       "</table>\n",
       "</div>"
      ],
      "text/plain": [
       "           id                                             review\n",
       "0  \"12311_10\"  \"Naturally in a film who's main themes are of ...\n",
       "1    \"8348_2\"  \"This movie is a disaster within a disaster fi...\n",
       "2    \"5828_4\"  \"All in all, this is a movie for kids. We saw ...\n",
       "3    \"7186_2\"  \"Afraid of the Dark left me with the impressio...\n",
       "4   \"12128_7\"  \"A very accurate depiction of small time mob l..."
      ]
     },
     "execution_count": 7,
     "metadata": {},
     "output_type": "execute_result"
    }
   ],
   "source": [
    "# inspecting test data\n",
    "test.head()"
   ]
  },
  {
   "cell_type": "code",
   "execution_count": 6,
   "metadata": {},
   "outputs": [
    {
     "data": {
      "text/plain": [
       "u'\"With all this stuff going down at the moment with MJ i\\'ve started listening to his music, watching the odd documentary here and there, watched The Wiz and watched Moonwalker again. Maybe i just want to get a certain insight into this guy who i thought was really cool in the eighties just to maybe make up my mind whether he is guilty or innocent. Moonwalker is part biography, part feature film which i remember going to see at the cinema when it was originally released. Some of it has subtle messages about MJ\\'s feeling towards the press and also the obvious message of drugs are bad m\\'kay.<br /><br />Visually impressive but of course this is all about Michael Jackson so unless you remotely like MJ in anyway then you are going to hate this and find it boring. Some may call MJ an egotist for consenting to the making of this movie BUT MJ and most of his fans would say that he made it for the fans which if true is really nice of him.<br /><br />The actual feature film bit when it finally starts is only on for 20 minutes or so excluding the Smooth Criminal sequence and Joe Pesci is convincing as a psychopathic all powerful drug lord. Why he wants MJ dead so bad is beyond me. Because MJ overheard his plans? Nah, Joe Pesci\\'s character ranted that he wanted people to know it is he who is supplying drugs etc so i dunno, maybe he just hates MJ\\'s music.<br /><br />Lots of cool things in this like MJ turning into a car and a robot and the whole Speed Demon sequence. Also, the director must have had the patience of a saint when it came to filming the kiddy Bad sequence as usually directors hate working with one kid let alone a whole bunch of them performing a complex dance scene.<br /><br />Bottom line, this movie is for people who like MJ on one level or another (which i think is most people). If not, then stay away. It does try and give off a wholesome message and ironically MJ\\'s bestest buddy in this movie is a girl! Michael Jackson is truly one of the most talented people ever to grace this planet but is he guilty? Well, with all the attention i\\'ve gave this subject....hmmm well i don\\'t know because people can be different behind closed doors, i know this for a fact. He is either an extremely nice but stupid guy or one of the most sickest liars. I hope he is not the latter.\"'"
      ]
     },
     "execution_count": 6,
     "metadata": {},
     "output_type": "execute_result"
    }
   ],
   "source": [
    "train['review'][0]"
   ]
  },
  {
   "cell_type": "code",
   "execution_count": 8,
   "metadata": {},
   "outputs": [
    {
     "name": "stdout",
     "output_type": "stream",
     "text": [
      ": train : test\n",
      "('rows   :', 25000, ':', 25000)\n",
      "('perc   :', 50.0, '   :', 50.0)\n"
     ]
    }
   ],
   "source": [
    "nrow_train=train.shape[0]\n",
    "nrow_test=test.shape[0]\n",
    "sum=nrow_train+nrow_test\n",
    "print(\": train : test\")\n",
    "print(\"rows   :\",nrow_train,\":\",nrow_test)\n",
    "print(\"perc   :\",round(nrow_train*100/sum),\"   :\",round(nrow_test*100/sum))"
   ]
  },
  {
   "cell_type": "code",
   "execution_count": 9,
   "metadata": {},
   "outputs": [
    {
     "name": "stdout",
     "output_type": "stream",
     "text": [
      "number of rows for sentiment 1: 12500\n",
      "number of rows for sentiment 0: 12500\n"
     ]
    }
   ],
   "source": [
    "print \"number of rows for sentiment 1: {}\".format(len(train[train.sentiment==1]))\n",
    "print \"number of rows for sentiment 0: {}\".format(len(train[train.sentiment==0]))\n",
    "#sentiments are equally split"
   ]
  },
  {
   "cell_type": "code",
   "execution_count": 10,
   "metadata": {},
   "outputs": [
    {
     "name": "stdout",
     "output_type": "stream",
     "text": [
      "no missing values in training set\n",
      "id           0\n",
      "sentiment    0\n",
      "review       0\n",
      "dtype: int64\n",
      "\n",
      "no missing values in test set\n",
      "id        0\n",
      "review    0\n",
      "dtype: int64\n"
     ]
    }
   ],
   "source": [
    "print \"no missing values in training set\"\n",
    "print train.isnull().sum()\n",
    "print \"\\nno missing values in test set\"\n",
    "print test.isnull().sum()"
   ]
  },
  {
   "cell_type": "code",
   "execution_count": 11,
   "metadata": {},
   "outputs": [
    {
     "name": "stdout",
     "output_type": "stream",
     "text": [
      "         id                                             review\n",
      "0  \"5814_8\"  \"With all this stuff going down at the moment ...\n",
      "1  \"2381_9\"  \"\\\"The Classic War of the Worlds\\\" by Timothy ...\n",
      "2  \"7759_3\"  \"The film starts with a manager (Nicholas Bell...\n",
      "3  \"3630_4\"  \"It must be assumed that those who praised thi...\n",
      "4  \"9495_8\"  \"Superbly trashy and wondrously unpretentious ...\n"
     ]
    },
    {
     "data": {
      "text/html": [
       "<div>\n",
       "<style scoped>\n",
       "    .dataframe tbody tr th:only-of-type {\n",
       "        vertical-align: middle;\n",
       "    }\n",
       "\n",
       "    .dataframe tbody tr th {\n",
       "        vertical-align: top;\n",
       "    }\n",
       "\n",
       "    .dataframe thead th {\n",
       "        text-align: right;\n",
       "    }\n",
       "</style>\n",
       "<table border=\"1\" class=\"dataframe\">\n",
       "  <thead>\n",
       "    <tr style=\"text-align: right;\">\n",
       "      <th></th>\n",
       "      <th>id</th>\n",
       "      <th>review</th>\n",
       "    </tr>\n",
       "  </thead>\n",
       "  <tbody>\n",
       "    <tr>\n",
       "      <th>25000</th>\n",
       "      <td>\"12311_10\"</td>\n",
       "      <td>\"Naturally in a film who's main themes are of ...</td>\n",
       "    </tr>\n",
       "  </tbody>\n",
       "</table>\n",
       "</div>"
      ],
      "text/plain": [
       "               id                                             review\n",
       "25000  \"12311_10\"  \"Naturally in a film who's main themes are of ..."
      ]
     },
     "execution_count": 11,
     "metadata": {},
     "output_type": "execute_result"
    }
   ],
   "source": [
    "#concat both train and test\n",
    "merge=pd.concat([train[['id','review']],test[['id','review']]])\n",
    "df=merge.reset_index(drop=True)\n",
    "print df.head()\n",
    "df[df.id=='\"12311_10\"']\n",
    "#df.iloc[25000:] is test set\n",
    "#df.iloc[:25000] is train set"
   ]
  },
  {
   "cell_type": "code",
   "execution_count": 12,
   "metadata": {},
   "outputs": [
    {
     "name": "stdout",
     "output_type": "stream",
     "text": [
      "\"With all this stuff going down at the moment with MJ i've started listening to his music, watching the odd documentary here and there, watched The Wiz and watched Moonwalker again. Maybe i just want to get a certain insight into this guy who i thought was really cool in the eighties just to maybe make up my mind whether he is guilty or innocent. Moonwalker is part biography, part feature film which i remember going to see at the cinema when it was originally released. Some of it has subtle messages about MJ's feeling towards the press and also the obvious message of drugs are bad m'kay.Visually impressive but of course this is all about Michael Jackson so unless you remotely like MJ in anyway then you are going to hate this and find it boring. Some may call MJ an egotist for consenting to the making of this movie BUT MJ and most of his fans would say that he made it for the fans which if true is really nice of him.The actual feature film bit when it finally starts is only on for 20 minutes or so excluding the Smooth Criminal sequence and Joe Pesci is convincing as a psychopathic all powerful drug lord. Why he wants MJ dead so bad is beyond me. Because MJ overheard his plans? Nah, Joe Pesci's character ranted that he wanted people to know it is he who is supplying drugs etc so i dunno, maybe he just hates MJ's music.Lots of cool things in this like MJ turning into a car and a robot and the whole Speed Demon sequence. Also, the director must have had the patience of a saint when it came to filming the kiddy Bad sequence as usually directors hate working with one kid let alone a whole bunch of them performing a complex dance scene.Bottom line, this movie is for people who like MJ on one level or another (which i think is most people). If not, then stay away. It does try and give off a wholesome message and ironically MJ's bestest buddy in this movie is a girl! Michael Jackson is truly one of the most talented people ever to grace this planet but is he guilty? Well, with all the attention i've gave this subject....hmmm well i don't know because people can be different behind closed doors, i know this for a fact. He is either an extremely nice but stupid guy or one of the most sickest liars. I hope he is not the latter.\"\n"
     ]
    }
   ],
   "source": [
    "# Import BeautifulSoup into your workspace\n",
    "# use beautiful soup to remove html tags\n",
    "from bs4 import BeautifulSoup             \n",
    "\n",
    "# Initialize the BeautifulSoup object on a single movie review     \n",
    "example1 = BeautifulSoup(train[\"review\"][0], 'lxml')  \n",
    "\n",
    "# Print the raw review and then the output of get_text(), for \n",
    "# comparison\n",
    "print example1.get_text()"
   ]
  },
  {
   "cell_type": "code",
   "execution_count": 13,
   "metadata": {},
   "outputs": [],
   "source": [
    "def review_to_words( raw_review ):\n",
    "    # Function to convert a raw review to a string of words\n",
    "    # The input is a single string (a raw movie review), and \n",
    "    # the output is a single string (a preprocessed movie review)\n",
    "    #\n",
    "    # 1. Remove HTML\n",
    "    review_text = BeautifulSoup(raw_review, 'lxml').get_text() \n",
    "    #\n",
    "    # 2. Remove non-letters with regex\n",
    "    letters_only = re.sub(\"[^a-zA-Z]\", \" \", review_text) \n",
    "    #\n",
    "    # 3. Convert to lower case, split into individual words\n",
    "    words = letters_only.lower().split()                           \n",
    "    #\n",
    "    # 4. Create set of stopwords\n",
    "    stops = set(stopwords.words(\"english\"))                  \n",
    "    # \n",
    "    # 5. Remove stop words\n",
    "    meaningful_words = [w for w in words if not w in stops]   \n",
    "    #\n",
    "    # 6. Join the words back into one string separated by space, \n",
    "    # and return the result.\n",
    "    return( \" \".join( meaningful_words ))   \n",
    "#apply function to reviews\n",
    "df['review_cleaned']=df['review'].apply(review_to_words)\n",
    "df_justclean = df[['id','review_cleaned']]"
   ]
  },
  {
   "cell_type": "markdown",
   "metadata": {},
   "source": [
    "# Part II: Feature Generation \n",
    "## FG: Descriptive Statistics About Word and Letter Properties \n",
    "In addition to the actual words in the reviews itself, it may be useful to generate features on metadata of each review. Word count, letter count, word length, and measures of uniqueness have the potential to help with model training alongside the n-grams that will be generated later."
   ]
  },
  {
   "cell_type": "code",
   "execution_count": 20,
   "metadata": {},
   "outputs": [],
   "source": [
    "## Descriptive Stats\n",
    "\n",
    "#Word count in each comment:\n",
    "df['count_word']=df[\"review_cleaned\"].apply(lambda x: len(str(x).split()))\n",
    "df['count_unique_word']=df[\"review_cleaned\"].apply(lambda x: len(set(str(x).split())))#split creates groups\n",
    "#Letter count\n",
    "df['count_letters']=df[\"review_cleaned\"].apply(lambda x: len(str(x)))\n",
    "#Average length of the words\n",
    "df[\"mean_word_len\"] = df[\"review_cleaned\"].apply(lambda x: np.mean([len(w) for w in str(x).split()]))"
   ]
  },
  {
   "cell_type": "code",
   "execution_count": 21,
   "metadata": {},
   "outputs": [],
   "source": [
    "#Word count percent in each comment:\n",
    "df['word_unique_percent']=df['count_unique_word']*100/df['count_word']"
   ]
  },
  {
   "cell_type": "code",
   "execution_count": 22,
   "metadata": {},
   "outputs": [],
   "source": [
    "#serperate train and test features\n",
    "train_feats=df.iloc[0:len(train),] # zero to index of len train\n",
    "test_feats=df.iloc[len(train):,] #len train to end\n",
    "#join the tags\n",
    "train_tags=train['sentiment']\n",
    "train_feats=pd.concat([train_feats,train_tags],axis=1)"
   ]
  },
  {
   "cell_type": "code",
   "execution_count": 23,
   "metadata": {},
   "outputs": [
    {
     "data": {
      "text/html": [
       "<div>\n",
       "<style scoped>\n",
       "    .dataframe tbody tr th:only-of-type {\n",
       "        vertical-align: middle;\n",
       "    }\n",
       "\n",
       "    .dataframe tbody tr th {\n",
       "        vertical-align: top;\n",
       "    }\n",
       "\n",
       "    .dataframe thead th {\n",
       "        text-align: right;\n",
       "    }\n",
       "</style>\n",
       "<table border=\"1\" class=\"dataframe\">\n",
       "  <thead>\n",
       "    <tr style=\"text-align: right;\">\n",
       "      <th></th>\n",
       "      <th>id</th>\n",
       "      <th>review</th>\n",
       "      <th>review_cleaned</th>\n",
       "      <th>count_word</th>\n",
       "      <th>count_unique_word</th>\n",
       "      <th>count_letters</th>\n",
       "      <th>mean_word_len</th>\n",
       "      <th>word_unique_percent</th>\n",
       "      <th>sentiment</th>\n",
       "    </tr>\n",
       "  </thead>\n",
       "  <tbody>\n",
       "    <tr>\n",
       "      <th>0</th>\n",
       "      <td>\"5814_8\"</td>\n",
       "      <td>\"With all this stuff going down at the moment ...</td>\n",
       "      <td>stuff going moment mj started listening music ...</td>\n",
       "      <td>219</td>\n",
       "      <td>166</td>\n",
       "      <td>1421</td>\n",
       "      <td>5.493151</td>\n",
       "      <td>75.799087</td>\n",
       "      <td>1</td>\n",
       "    </tr>\n",
       "    <tr>\n",
       "      <th>1</th>\n",
       "      <td>\"2381_9\"</td>\n",
       "      <td>\"\\\"The Classic War of the Worlds\\\" by Timothy ...</td>\n",
       "      <td>classic war worlds timothy hines entertaining ...</td>\n",
       "      <td>84</td>\n",
       "      <td>67</td>\n",
       "      <td>596</td>\n",
       "      <td>6.107143</td>\n",
       "      <td>79.761905</td>\n",
       "      <td>1</td>\n",
       "    </tr>\n",
       "    <tr>\n",
       "      <th>2</th>\n",
       "      <td>\"7759_3\"</td>\n",
       "      <td>\"The film starts with a manager (Nicholas Bell...</td>\n",
       "      <td>film starts manager nicholas bell giving welco...</td>\n",
       "      <td>240</td>\n",
       "      <td>213</td>\n",
       "      <td>1816</td>\n",
       "      <td>6.570833</td>\n",
       "      <td>88.750000</td>\n",
       "      <td>0</td>\n",
       "    </tr>\n",
       "    <tr>\n",
       "      <th>3</th>\n",
       "      <td>\"3630_4\"</td>\n",
       "      <td>\"It must be assumed that those who praised thi...</td>\n",
       "      <td>must assumed praised film greatest filmed oper...</td>\n",
       "      <td>189</td>\n",
       "      <td>163</td>\n",
       "      <td>1437</td>\n",
       "      <td>6.608466</td>\n",
       "      <td>86.243386</td>\n",
       "      <td>0</td>\n",
       "    </tr>\n",
       "    <tr>\n",
       "      <th>4</th>\n",
       "      <td>\"9495_8\"</td>\n",
       "      <td>\"Superbly trashy and wondrously unpretentious ...</td>\n",
       "      <td>superbly trashy wondrously unpretentious explo...</td>\n",
       "      <td>210</td>\n",
       "      <td>192</td>\n",
       "      <td>1525</td>\n",
       "      <td>6.266667</td>\n",
       "      <td>91.428571</td>\n",
       "      <td>1</td>\n",
       "    </tr>\n",
       "  </tbody>\n",
       "</table>\n",
       "</div>"
      ],
      "text/plain": [
       "         id                                             review  \\\n",
       "0  \"5814_8\"  \"With all this stuff going down at the moment ...   \n",
       "1  \"2381_9\"  \"\\\"The Classic War of the Worlds\\\" by Timothy ...   \n",
       "2  \"7759_3\"  \"The film starts with a manager (Nicholas Bell...   \n",
       "3  \"3630_4\"  \"It must be assumed that those who praised thi...   \n",
       "4  \"9495_8\"  \"Superbly trashy and wondrously unpretentious ...   \n",
       "\n",
       "                                      review_cleaned  count_word  \\\n",
       "0  stuff going moment mj started listening music ...         219   \n",
       "1  classic war worlds timothy hines entertaining ...          84   \n",
       "2  film starts manager nicholas bell giving welco...         240   \n",
       "3  must assumed praised film greatest filmed oper...         189   \n",
       "4  superbly trashy wondrously unpretentious explo...         210   \n",
       "\n",
       "   count_unique_word  count_letters  mean_word_len  word_unique_percent  \\\n",
       "0                166           1421       5.493151            75.799087   \n",
       "1                 67            596       6.107143            79.761905   \n",
       "2                213           1816       6.570833            88.750000   \n",
       "3                163           1437       6.608466            86.243386   \n",
       "4                192           1525       6.266667            91.428571   \n",
       "\n",
       "   sentiment  \n",
       "0          1  \n",
       "1          1  \n",
       "2          0  \n",
       "3          0  \n",
       "4          1  "
      ]
     },
     "execution_count": 23,
     "metadata": {},
     "output_type": "execute_result"
    }
   ],
   "source": [
    "train_feats.head()"
   ]
  },
  {
   "cell_type": "code",
   "execution_count": 24,
   "metadata": {},
   "outputs": [
    {
     "data": {
      "text/html": [
       "<div>\n",
       "<style scoped>\n",
       "    .dataframe tbody tr th:only-of-type {\n",
       "        vertical-align: middle;\n",
       "    }\n",
       "\n",
       "    .dataframe tbody tr th {\n",
       "        vertical-align: top;\n",
       "    }\n",
       "\n",
       "    .dataframe thead th {\n",
       "        text-align: right;\n",
       "    }\n",
       "</style>\n",
       "<table border=\"1\" class=\"dataframe\">\n",
       "  <thead>\n",
       "    <tr style=\"text-align: right;\">\n",
       "      <th></th>\n",
       "      <th>count_word</th>\n",
       "      <th>count_unique_word</th>\n",
       "      <th>count_letters</th>\n",
       "      <th>mean_word_len</th>\n",
       "      <th>word_unique_percent</th>\n",
       "      <th>sentiment</th>\n",
       "    </tr>\n",
       "  </thead>\n",
       "  <tbody>\n",
       "    <tr>\n",
       "      <th>count</th>\n",
       "      <td>25000.000000</td>\n",
       "      <td>25000.000000</td>\n",
       "      <td>25000.000000</td>\n",
       "      <td>25000.000000</td>\n",
       "      <td>25000.000000</td>\n",
       "      <td>25000.00000</td>\n",
       "    </tr>\n",
       "    <tr>\n",
       "      <th>mean</th>\n",
       "      <td>119.523560</td>\n",
       "      <td>98.016160</td>\n",
       "      <td>823.983320</td>\n",
       "      <td>5.850890</td>\n",
       "      <td>85.152944</td>\n",
       "      <td>0.50000</td>\n",
       "    </tr>\n",
       "    <tr>\n",
       "      <th>std</th>\n",
       "      <td>90.583576</td>\n",
       "      <td>66.541265</td>\n",
       "      <td>639.122189</td>\n",
       "      <td>0.408079</td>\n",
       "      <td>7.548668</td>\n",
       "      <td>0.50001</td>\n",
       "    </tr>\n",
       "    <tr>\n",
       "      <th>min</th>\n",
       "      <td>4.000000</td>\n",
       "      <td>4.000000</td>\n",
       "      <td>27.000000</td>\n",
       "      <td>4.214286</td>\n",
       "      <td>16.981132</td>\n",
       "      <td>0.00000</td>\n",
       "    </tr>\n",
       "    <tr>\n",
       "      <th>25%</th>\n",
       "      <td>63.000000</td>\n",
       "      <td>55.000000</td>\n",
       "      <td>426.000000</td>\n",
       "      <td>5.581395</td>\n",
       "      <td>80.376477</td>\n",
       "      <td>0.00000</td>\n",
       "    </tr>\n",
       "    <tr>\n",
       "      <th>50%</th>\n",
       "      <td>89.000000</td>\n",
       "      <td>76.000000</td>\n",
       "      <td>604.000000</td>\n",
       "      <td>5.847642</td>\n",
       "      <td>85.714286</td>\n",
       "      <td>0.50000</td>\n",
       "    </tr>\n",
       "    <tr>\n",
       "      <th>75%</th>\n",
       "      <td>146.000000</td>\n",
       "      <td>120.000000</td>\n",
       "      <td>1003.000000</td>\n",
       "      <td>6.114698</td>\n",
       "      <td>90.588235</td>\n",
       "      <td>1.00000</td>\n",
       "    </tr>\n",
       "    <tr>\n",
       "      <th>max</th>\n",
       "      <td>1416.000000</td>\n",
       "      <td>588.000000</td>\n",
       "      <td>9155.000000</td>\n",
       "      <td>8.636364</td>\n",
       "      <td>100.000000</td>\n",
       "      <td>1.00000</td>\n",
       "    </tr>\n",
       "  </tbody>\n",
       "</table>\n",
       "</div>"
      ],
      "text/plain": [
       "         count_word  count_unique_word  count_letters  mean_word_len  \\\n",
       "count  25000.000000       25000.000000   25000.000000   25000.000000   \n",
       "mean     119.523560          98.016160     823.983320       5.850890   \n",
       "std       90.583576          66.541265     639.122189       0.408079   \n",
       "min        4.000000           4.000000      27.000000       4.214286   \n",
       "25%       63.000000          55.000000     426.000000       5.581395   \n",
       "50%       89.000000          76.000000     604.000000       5.847642   \n",
       "75%      146.000000         120.000000    1003.000000       6.114698   \n",
       "max     1416.000000         588.000000    9155.000000       8.636364   \n",
       "\n",
       "       word_unique_percent    sentiment  \n",
       "count         25000.000000  25000.00000  \n",
       "mean             85.152944      0.50000  \n",
       "std               7.548668      0.50001  \n",
       "min              16.981132      0.00000  \n",
       "25%              80.376477      0.00000  \n",
       "50%              85.714286      0.50000  \n",
       "75%              90.588235      1.00000  \n",
       "max             100.000000      1.00000  "
      ]
     },
     "execution_count": 24,
     "metadata": {},
     "output_type": "execute_result"
    }
   ],
   "source": [
    "train_feats.describe()"
   ]
  },
  {
   "cell_type": "code",
   "execution_count": 21,
   "metadata": {},
   "outputs": [
    {
     "data": {
      "text/plain": [
       "count_word              167.000000\n",
       "count_unique_word       136.000000\n",
       "count_letters          1154.000000\n",
       "mean_word_len             6.185596\n",
       "word_unique_percent      91.666667\n",
       "sentiment                 1.000000\n",
       "Name: 0.8, dtype: float64"
      ]
     },
     "execution_count": 21,
     "metadata": {},
     "output_type": "execute_result"
    }
   ],
   "source": [
    "train_feats.quantile(0.8)"
   ]
  },
  {
   "cell_type": "code",
   "execution_count": 25,
   "metadata": {},
   "outputs": [],
   "source": [
    "# place bounds on descriptive stats\n",
    "train_feats['count_word'].loc[train_feats['count_word']>150] = 150 # set columns with count sent longer than 90 to 90\n",
    "train_feats['count_unique_word'].loc[train_feats['count_unique_word']>136] = 136 # set columns with count sent longer than 90 to 90\n",
    "train_feats['count_letters'].loc[train_feats['count_letters']>1154] = 1154"
   ]
  },
  {
   "cell_type": "code",
   "execution_count": 26,
   "metadata": {},
   "outputs": [
    {
     "data": {
      "image/png": "[encoded data removed]",
      "text/plain": [
       "<matplotlib.figure.Figure at 0x10ff15590>"
      ]
     },
     "metadata": {},
     "output_type": "display_data"
    }
   ],
   "source": [
    "plt.figure(figsize=(12,6))\n",
    "## sentenses\n",
    "plt.subplot(121)\n",
    "plt.suptitle(\"Do Positive Reviews Have More Words/Letters?\",fontsize=20)\n",
    "sns.violinplot(y='count_word',x='sentiment', data=train_feats,split=True,inner=\"quart\")\n",
    "plt.xlabel('Positive?', fontsize=12)\n",
    "plt.ylabel('# of words', fontsize=12)\n",
    "plt.title(\"Number of words in each review\", fontsize=15)\n",
    "# words/set count of words longer than 200 to 200\n",
    "\n",
    "plt.subplot(122)\n",
    "sns.violinplot(y='count_letters',x='sentiment', data=train_feats,split=True,inner=\"quart\")\n",
    "plt.xlabel('Positive?', fontsize=12)\n",
    "plt.ylabel('# of letters', fontsize=12)\n",
    "plt.title(\"Number of letters in each review\", fontsize=15)\n",
    "\n",
    "plt.show()"
   ]
  },
  {
   "cell_type": "markdown",
   "metadata": {},
   "source": [
    "#### Observation\n",
    "There doesn't look like there's a difference in distribution among the two. Positive reviews have a slightly larger mean. A t-test could confirm that there's no significant difference between positive and negative reviews."
   ]
  },
  {
   "cell_type": "code",
   "execution_count": 27,
   "metadata": {},
   "outputs": [
    {
     "data": {
      "text/plain": [
       "Ttest_indResult(statistic=-0.81305766046440264, pvalue=0.41619275774524234)"
      ]
     },
     "execution_count": 27,
     "metadata": {},
     "output_type": "execute_result"
    }
   ],
   "source": [
    "from scipy import stats\n",
    "stats.ttest_ind(train_feats[train_feats.sentiment==0]['count_word'], train_feats[train_feats.sentiment==1]['count_word'], equal_var = False)"
   ]
  },
  {
   "cell_type": "code",
   "execution_count": 28,
   "metadata": {},
   "outputs": [
    {
     "data": {
      "text/plain": [
       "Ttest_indResult(statistic=-2.6572892648369386, pvalue=0.0078821985244819214)"
      ]
     },
     "execution_count": 28,
     "metadata": {},
     "output_type": "execute_result"
    }
   ],
   "source": [
    "from scipy import stats\n",
    "stats.ttest_ind(train_feats[train_feats.sentiment==0]['count_letters'], train_feats[train_feats.sentiment==1]['count_letters'], equal_var = False)"
   ]
  },
  {
   "cell_type": "code",
   "execution_count": 29,
   "metadata": {},
   "outputs": [
    {
     "data": {
      "image/png": "[encoded data removed]",
      "text/plain": [
       "<matplotlib.figure.Figure at 0x10fefef50>"
      ]
     },
     "metadata": {},
     "output_type": "display_data"
    }
   ],
   "source": [
    "plt.figure(figsize=(12,6))\n",
    "## sentenses\n",
    "plt.subplot(121)\n",
    "plt.suptitle(\"Do Positive Reviews Have More Unique Words Have More of Them?\",fontsize=20)\n",
    "sns.violinplot(y='count_unique_word',x='sentiment', data=train_feats,split=True,inner=\"quart\")\n",
    "plt.xlabel('Positive?', fontsize=12)\n",
    "plt.ylabel('# of unique words', fontsize=12)\n",
    "plt.title(\"Number of unique words in each review\", fontsize=15)\n",
    "# words/set count of words longer than 200 to 200\n",
    "\n",
    "plt.subplot(122)\n",
    "sns.violinplot(y='word_unique_percent',x='sentiment', data=train_feats,split=True,inner=\"quart\")\n",
    "plt.xlabel('Positive?', fontsize=12)\n",
    "plt.ylabel('% of unique words', fontsize=12)\n",
    "plt.title(\"% of unique words in each review\", fontsize=15)\n",
    "\n",
    "plt.show()"
   ]
  },
  {
   "cell_type": "code",
   "execution_count": 30,
   "metadata": {},
   "outputs": [
    {
     "name": "stdout",
     "output_type": "stream",
     "text": [
      "t-stat for unique words\n",
      "Ttest_indResult(statistic=-0.50804279605865899, pvalue=0.6114278233590944)\n",
      "\n",
      "t-stat for % unique words\n",
      "Ttest_indResult(statistic=5.6865284878324491, pvalue=1.3109782597794204e-08)\n"
     ]
    }
   ],
   "source": [
    "print \"t-stat for unique words\"\n",
    "print stats.ttest_ind(train_feats[train_feats.sentiment==0]['count_unique_word'], train_feats[train_feats.sentiment==1]['count_unique_word'], equal_var = False)\n",
    "print \"\\nt-stat for % unique words\"\n",
    "print stats.ttest_ind(train_feats[train_feats.sentiment==0]['word_unique_percent'], train_feats[train_feats.sentiment==1]['word_unique_percent'], equal_var = False)"
   ]
  },
  {
   "cell_type": "markdown",
   "metadata": {},
   "source": [
    "#### Observation\n",
    "Significant variables are word_unique_percent, count_word, count_letters, with word_unique being the strongest, meaning that writers of negative reviews might tend to be more imaginative with word use."
   ]
  },
  {
   "cell_type": "code",
   "execution_count": 31,
   "metadata": {},
   "outputs": [
    {
     "data": {
      "text/html": [
       "<div>\n",
       "<style scoped>\n",
       "    .dataframe tbody tr th:only-of-type {\n",
       "        vertical-align: middle;\n",
       "    }\n",
       "\n",
       "    .dataframe tbody tr th {\n",
       "        vertical-align: top;\n",
       "    }\n",
       "\n",
       "    .dataframe thead th {\n",
       "        text-align: right;\n",
       "    }\n",
       "</style>\n",
       "<table border=\"1\" class=\"dataframe\">\n",
       "  <thead>\n",
       "    <tr style=\"text-align: right;\">\n",
       "      <th></th>\n",
       "      <th>count_word</th>\n",
       "      <th>count_unique_word</th>\n",
       "      <th>count_letters</th>\n",
       "      <th>mean_word_len</th>\n",
       "      <th>word_unique_percent</th>\n",
       "      <th>sentiment</th>\n",
       "    </tr>\n",
       "  </thead>\n",
       "  <tbody>\n",
       "    <tr>\n",
       "      <th>count</th>\n",
       "      <td>12500.000000</td>\n",
       "      <td>12500.000000</td>\n",
       "      <td>12500.000000</td>\n",
       "      <td>12500.000000</td>\n",
       "      <td>12500.000000</td>\n",
       "      <td>12500.0</td>\n",
       "    </tr>\n",
       "    <tr>\n",
       "      <th>mean</th>\n",
       "      <td>95.657280</td>\n",
       "      <td>83.689280</td>\n",
       "      <td>676.742400</td>\n",
       "      <td>5.811183</td>\n",
       "      <td>85.424260</td>\n",
       "      <td>0.0</td>\n",
       "    </tr>\n",
       "    <tr>\n",
       "      <th>std</th>\n",
       "      <td>39.618013</td>\n",
       "      <td>35.184703</td>\n",
       "      <td>312.424164</td>\n",
       "      <td>0.395832</td>\n",
       "      <td>7.326485</td>\n",
       "      <td>0.0</td>\n",
       "    </tr>\n",
       "    <tr>\n",
       "      <th>min</th>\n",
       "      <td>4.000000</td>\n",
       "      <td>4.000000</td>\n",
       "      <td>27.000000</td>\n",
       "      <td>4.333333</td>\n",
       "      <td>20.000000</td>\n",
       "      <td>0.0</td>\n",
       "    </tr>\n",
       "    <tr>\n",
       "      <th>25%</th>\n",
       "      <td>64.000000</td>\n",
       "      <td>56.000000</td>\n",
       "      <td>427.000000</td>\n",
       "      <td>5.550994</td>\n",
       "      <td>80.769231</td>\n",
       "      <td>0.0</td>\n",
       "    </tr>\n",
       "    <tr>\n",
       "      <th>50%</th>\n",
       "      <td>88.000000</td>\n",
       "      <td>76.000000</td>\n",
       "      <td>598.000000</td>\n",
       "      <td>5.805310</td>\n",
       "      <td>86.029412</td>\n",
       "      <td>0.0</td>\n",
       "    </tr>\n",
       "    <tr>\n",
       "      <th>75%</th>\n",
       "      <td>141.000000</td>\n",
       "      <td>117.000000</td>\n",
       "      <td>970.000000</td>\n",
       "      <td>6.064396</td>\n",
       "      <td>90.647482</td>\n",
       "      <td>0.0</td>\n",
       "    </tr>\n",
       "    <tr>\n",
       "      <th>max</th>\n",
       "      <td>150.000000</td>\n",
       "      <td>136.000000</td>\n",
       "      <td>1154.000000</td>\n",
       "      <td>8.307692</td>\n",
       "      <td>100.000000</td>\n",
       "      <td>0.0</td>\n",
       "    </tr>\n",
       "  </tbody>\n",
       "</table>\n",
       "</div>"
      ],
      "text/plain": [
       "         count_word  count_unique_word  count_letters  mean_word_len  \\\n",
       "count  12500.000000       12500.000000   12500.000000   12500.000000   \n",
       "mean      95.657280          83.689280     676.742400       5.811183   \n",
       "std       39.618013          35.184703     312.424164       0.395832   \n",
       "min        4.000000           4.000000      27.000000       4.333333   \n",
       "25%       64.000000          56.000000     427.000000       5.550994   \n",
       "50%       88.000000          76.000000     598.000000       5.805310   \n",
       "75%      141.000000         117.000000     970.000000       6.064396   \n",
       "max      150.000000         136.000000    1154.000000       8.307692   \n",
       "\n",
       "       word_unique_percent  sentiment  \n",
       "count         12500.000000    12500.0  \n",
       "mean             85.424260        0.0  \n",
       "std               7.326485        0.0  \n",
       "min              20.000000        0.0  \n",
       "25%              80.769231        0.0  \n",
       "50%              86.029412        0.0  \n",
       "75%              90.647482        0.0  \n",
       "max             100.000000        0.0  "
      ]
     },
     "execution_count": 31,
     "metadata": {},
     "output_type": "execute_result"
    }
   ],
   "source": [
    "# looking at negative reviews\n",
    "train_feats[train_feats.sentiment==0].describe()"
   ]
  },
  {
   "cell_type": "code",
   "execution_count": 32,
   "metadata": {},
   "outputs": [
    {
     "data": {
      "text/plain": [
       "'superbly trashy wondrously unpretentious exploitation hooray pre credits opening sequences somewhat give false impression dealing serious harrowing drama need fear barely ten minutes later necks nonsensical chainsaw battles rough fist fights lurid dialogs gratuitous nudity bo ingrid two orphaned siblings unusually close even slightly perverted relationship imagine playfully ripping towel covers sister naked body stare unshaven genitals several whole minutes well bo sister judging dubbed laughter mind sick dude anyway kids fled russia parents nasty soldiers brutally slaughtered mommy daddy friendly smuggler took custody however even raised trained bo ingrid expert smugglers actual plot lifts years later facing ultimate quest mythical incredibly valuable white fire diamond coincidentally found mine things life ever made little sense plot narrative structure white fire sure lot fun watch time clue beating cause bet actors understood even less whatever violence magnificently grotesque every single plot twist pleasingly retarded script goes totally bonkers beyond repair suddenly reveal reason bo needs replacement ingrid fred williamson enters scene big cigar mouth sleazy black fingers local prostitutes bo principal opponent italian chick big breasts hideous accent preposterous catchy theme song plays least dozen times throughout film obligatory falling love montage loads attractions god brilliant experience original french title translates life survive uniquely appropriate makes much sense rest movie none'"
      ]
     },
     "execution_count": 32,
     "metadata": {},
     "output_type": "execute_result"
    }
   ],
   "source": [
    "train_feats[train_feats.word_unique_percent>90]['review_cleaned'][4].encode('utf-8')"
   ]
  },
  {
   "cell_type": "code",
   "execution_count": 33,
   "metadata": {},
   "outputs": [],
   "source": [
    "train_feats.rename(columns={\"sentiment\": \"target_sentiment\"},inplace=True)"
   ]
  },
  {
   "cell_type": "code",
   "execution_count": 34,
   "metadata": {},
   "outputs": [
    {
     "data": {
      "text/html": [
       "<div>\n",
       "<style scoped>\n",
       "    .dataframe tbody tr th:only-of-type {\n",
       "        vertical-align: middle;\n",
       "    }\n",
       "\n",
       "    .dataframe tbody tr th {\n",
       "        vertical-align: top;\n",
       "    }\n",
       "\n",
       "    .dataframe thead th {\n",
       "        text-align: right;\n",
       "    }\n",
       "</style>\n",
       "<table border=\"1\" class=\"dataframe\">\n",
       "  <thead>\n",
       "    <tr style=\"text-align: right;\">\n",
       "      <th></th>\n",
       "      <th>id</th>\n",
       "      <th>review</th>\n",
       "      <th>review_cleaned</th>\n",
       "      <th>count_word</th>\n",
       "      <th>count_unique_word</th>\n",
       "      <th>count_letters</th>\n",
       "      <th>mean_word_len</th>\n",
       "      <th>word_unique_percent</th>\n",
       "      <th>target_sentiment</th>\n",
       "    </tr>\n",
       "  </thead>\n",
       "  <tbody>\n",
       "    <tr>\n",
       "      <th>0</th>\n",
       "      <td>\"5814_8\"</td>\n",
       "      <td>\"With all this stuff going down at the moment ...</td>\n",
       "      <td>stuff going moment mj started listening music ...</td>\n",
       "      <td>150</td>\n",
       "      <td>136</td>\n",
       "      <td>1154</td>\n",
       "      <td>5.493151</td>\n",
       "      <td>75.799087</td>\n",
       "      <td>1</td>\n",
       "    </tr>\n",
       "    <tr>\n",
       "      <th>1</th>\n",
       "      <td>\"2381_9\"</td>\n",
       "      <td>\"\\\"The Classic War of the Worlds\\\" by Timothy ...</td>\n",
       "      <td>classic war worlds timothy hines entertaining ...</td>\n",
       "      <td>84</td>\n",
       "      <td>67</td>\n",
       "      <td>596</td>\n",
       "      <td>6.107143</td>\n",
       "      <td>79.761905</td>\n",
       "      <td>1</td>\n",
       "    </tr>\n",
       "    <tr>\n",
       "      <th>2</th>\n",
       "      <td>\"7759_3\"</td>\n",
       "      <td>\"The film starts with a manager (Nicholas Bell...</td>\n",
       "      <td>film starts manager nicholas bell giving welco...</td>\n",
       "      <td>150</td>\n",
       "      <td>136</td>\n",
       "      <td>1154</td>\n",
       "      <td>6.570833</td>\n",
       "      <td>88.750000</td>\n",
       "      <td>0</td>\n",
       "    </tr>\n",
       "    <tr>\n",
       "      <th>3</th>\n",
       "      <td>\"3630_4\"</td>\n",
       "      <td>\"It must be assumed that those who praised thi...</td>\n",
       "      <td>must assumed praised film greatest filmed oper...</td>\n",
       "      <td>150</td>\n",
       "      <td>136</td>\n",
       "      <td>1154</td>\n",
       "      <td>6.608466</td>\n",
       "      <td>86.243386</td>\n",
       "      <td>0</td>\n",
       "    </tr>\n",
       "    <tr>\n",
       "      <th>4</th>\n",
       "      <td>\"9495_8\"</td>\n",
       "      <td>\"Superbly trashy and wondrously unpretentious ...</td>\n",
       "      <td>superbly trashy wondrously unpretentious explo...</td>\n",
       "      <td>150</td>\n",
       "      <td>136</td>\n",
       "      <td>1154</td>\n",
       "      <td>6.266667</td>\n",
       "      <td>91.428571</td>\n",
       "      <td>1</td>\n",
       "    </tr>\n",
       "  </tbody>\n",
       "</table>\n",
       "</div>"
      ],
      "text/plain": [
       "         id                                             review  \\\n",
       "0  \"5814_8\"  \"With all this stuff going down at the moment ...   \n",
       "1  \"2381_9\"  \"\\\"The Classic War of the Worlds\\\" by Timothy ...   \n",
       "2  \"7759_3\"  \"The film starts with a manager (Nicholas Bell...   \n",
       "3  \"3630_4\"  \"It must be assumed that those who praised thi...   \n",
       "4  \"9495_8\"  \"Superbly trashy and wondrously unpretentious ...   \n",
       "\n",
       "                                      review_cleaned  count_word  \\\n",
       "0  stuff going moment mj started listening music ...         150   \n",
       "1  classic war worlds timothy hines entertaining ...          84   \n",
       "2  film starts manager nicholas bell giving welco...         150   \n",
       "3  must assumed praised film greatest filmed oper...         150   \n",
       "4  superbly trashy wondrously unpretentious explo...         150   \n",
       "\n",
       "   count_unique_word  count_letters  mean_word_len  word_unique_percent  \\\n",
       "0                136           1154       5.493151            75.799087   \n",
       "1                 67            596       6.107143            79.761905   \n",
       "2                136           1154       6.570833            88.750000   \n",
       "3                136           1154       6.608466            86.243386   \n",
       "4                136           1154       6.266667            91.428571   \n",
       "\n",
       "   target_sentiment  \n",
       "0                 1  \n",
       "1                 1  \n",
       "2                 0  \n",
       "3                 0  \n",
       "4                 1  "
      ]
     },
     "execution_count": 34,
     "metadata": {},
     "output_type": "execute_result"
    }
   ],
   "source": [
    "train_feats.head()"
   ]
  },
  {
   "cell_type": "markdown",
   "metadata": {},
   "source": [
    "## FG: Corpus Cleaning and Generating N-Grams using TfidfVectorizer"
   ]
  },
  {
   "cell_type": "code",
   "execution_count": 35,
   "metadata": {},
   "outputs": [],
   "source": [
    "#Corpus cleaning: Its important to use a clean dataset before creating count features.\n",
    "merge['cleaned_review']=merge['review'].apply(review_to_words)\n",
    "corpus = merge.cleaned_review\n",
    "#dictionary of apostrophe words\n",
    "APPO = {\n",
    "\"aren't\" : \"are not\",\n",
    "\"can't\" : \"cannot\",\n",
    "\"couldn't\" : \"could not\",\n",
    "\"didn't\" : \"did not\",\n",
    "\"doesn't\" : \"does not\",\n",
    "\"don't\" : \"do not\",\n",
    "\"hadn't\" : \"had not\",\n",
    "\"hasn't\" : \"has not\",\n",
    "\"haven't\" : \"have not\",\n",
    "\"he'd\" : \"he would\",\n",
    "\"he'll\" : \"he will\",\n",
    "\"he's\" : \"he is\",\n",
    "\"i'd\" : \"I would\",\n",
    "\"i'd\" : \"I had\",\n",
    "\"i'll\" : \"I will\",\n",
    "\"i'm\" : \"I am\",\n",
    "\"isn't\" : \"is not\",\n",
    "\"it's\" : \"it is\",\n",
    "\"it'll\":\"it will\",\n",
    "\"i've\" : \"I have\",\n",
    "\"let's\" : \"let us\",\n",
    "\"mightn't\" : \"might not\",\n",
    "\"mustn't\" : \"must not\",\n",
    "\"shan't\" : \"shall not\",\n",
    "\"she'd\" : \"she would\",\n",
    "\"she'll\" : \"she will\",\n",
    "\"she's\" : \"she is\",\n",
    "\"shouldn't\" : \"should not\",\n",
    "\"that's\" : \"that is\",\n",
    "\"there's\" : \"there is\",\n",
    "\"they'd\" : \"they would\",\n",
    "\"they'll\" : \"they will\",\n",
    "\"they're\" : \"they are\",\n",
    "\"they've\" : \"they have\",\n",
    "\"we'd\" : \"we would\",\n",
    "\"we're\" : \"we are\",\n",
    "\"weren't\" : \"were not\",\n",
    "\"we've\" : \"we have\",\n",
    "\"what'll\" : \"what will\",\n",
    "\"what're\" : \"what are\",\n",
    "\"what's\" : \"what is\",\n",
    "\"what've\" : \"what have\",\n",
    "\"where's\" : \"where is\",\n",
    "\"who'd\" : \"who would\",\n",
    "\"who'll\" : \"who will\",\n",
    "\"who're\" : \"who are\",\n",
    "\"who's\" : \"who is\",\n",
    "\"who've\" : \"who have\",\n",
    "\"won't\" : \"will not\",\n",
    "\"wouldn't\" : \"would not\",\n",
    "\"you'd\" : \"you would\",\n",
    "\"you'll\" : \"you will\",\n",
    "\"you're\" : \"you are\",\n",
    "\"you've\" : \"you have\",\n",
    "\"'re\": \" are\",\n",
    "\"wasn't\": \"was not\",\n",
    "\"we'll\":\" will\",\n",
    "\"didn't\": \"did not\",\n",
    "\"tryin'\":\"trying\"}"
   ]
  },
  {
   "cell_type": "code",
   "execution_count": 36,
   "metadata": {},
   "outputs": [],
   "source": [
    "#Extending the CountVectorizer class with a lemmatizer (turning word forms into their based root)\n",
    "lemm = WordNetLemmatizer()\n",
    "class LemmaCountVectorizer(CountVectorizer):\n",
    "    def build_analyzer(self):\n",
    "        analyzer = super(LemmaCountVectorizer, self).build_analyzer()\n",
    "        return lambda doc: (lemm.lemmatize(w) for w in analyzer(doc))\n",
    "#takes the CountVectorizer() function and replaces the .build_analyzer() method with lemmacountvectorizer\n",
    "\n",
    "#tf = tf_vectorizer.fit_transform(text)"
   ]
  },
  {
   "cell_type": "code",
   "execution_count": 37,
   "metadata": {},
   "outputs": [],
   "source": [
    "def clean(comment):\n",
    "\n",
    "    #Split the sentences into words\n",
    "    words=tokenizer.tokenize(comment)\n",
    "    \n",
    "    # (')aphostophe  replacement (ie)   you're --> you are  \n",
    "    # ( basic dictionary lookup : master dictionary present in a hidden block of code)\n",
    "    words=[APPO[word] if word in APPO else word for word in words]\n",
    "    words=[lem.lemmatize(word,\"v\") for word in words] #lemmatizes based on position v\n",
    "    \n",
    "    clean_sent=\" \".join(words)\n",
    "    # remove any non alphanum,digit character\n",
    "    #clean_sent=re.sub(\"\\W+\",\" \",clean_sent)\n",
    "    #clean_sent=re.sub(\"  \",\" \",clean_sent)\n",
    "    return(clean_sent)"
   ]
  },
  {
   "cell_type": "code",
   "execution_count": 38,
   "metadata": {},
   "outputs": [
    {
     "data": {
      "text/plain": [
       "u'stuff go moment mj start listen music watch odd documentary watch wiz watch moonwalker maybe want get certain insight guy think really cool eighties maybe make mind whether guilty innocent moonwalker part biography part feature film remember go see cinema originally release subtle message mj feel towards press also obvious message drug bad kay visually impressive course michael jackson unless remotely like mj anyway go hate find bore may call mj egotist consent make movie mj fan would say make fan true really nice actual feature film bite finally start minutes exclude smooth criminal sequence joe pesci convince psychopathic powerful drug lord want mj dead bad beyond mj overhear plan nah joe pesci character rant want people know supply drug etc dunno maybe hat mj music lot cool things like mj turn car robot whole speed demon sequence also director must patience saint come film kiddy bad sequence usually directors hate work one kid let alone whole bunch perform complex dance scene bottom line movie people like mj one level another think people stay away try give wholesome message ironically mj bestest buddy movie girl michael jackson truly one talented people ever grace planet guilty well attention give subject hmmm well know people different behind close doors know fact either extremely nice stupid guy one sickest liars hope latter'"
      ]
     },
     "execution_count": 38,
     "metadata": {},
     "output_type": "execute_result"
    }
   ],
   "source": [
    "# demonstrates of cleaning\n",
    "clean(corpus.iloc[0])"
   ]
  },
  {
   "cell_type": "code",
   "execution_count": 39,
   "metadata": {},
   "outputs": [
    {
     "name": "stdout",
     "output_type": "stream",
     "text": [
      "('total time till Cleaning', 9261.08992099762)\n"
     ]
    }
   ],
   "source": [
    "clean_corpus=corpus.apply(lambda x :clean(x))\n",
    "\n",
    "end_time=time.time()\n",
    "print(\"total time till Cleaning\",end_time-start_time)"
   ]
  },
  {
   "cell_type": "code",
   "execution_count": 40,
   "metadata": {},
   "outputs": [
    {
     "data": {
      "text/plain": [
       "0    stuff go moment mj start listen music watch od...\n",
       "1    classic war worlds timothy hines entertain fil...\n",
       "2    film start manager nicholas bell give welcome ...\n",
       "3    must assume praise film greatest film opera ev...\n",
       "4    superbly trashy wondrously unpretentious explo...\n",
       "Name: cleaned_review, dtype: object"
      ]
     },
     "execution_count": 40,
     "metadata": {},
     "output_type": "execute_result"
    }
   ],
   "source": [
    "clean_corpus.head()"
   ]
  },
  {
   "cell_type": "code",
   "execution_count": 48,
   "metadata": {},
   "outputs": [
    {
     "data": {
      "text/plain": [
       "25000"
      ]
     },
     "execution_count": 48,
     "metadata": {},
     "output_type": "execute_result"
    }
   ],
   "source": [
    "clean_corpus[:len(train_feats)]"
   ]
  },
  {
   "cell_type": "code",
   "execution_count": 57,
   "metadata": {
    "scrolled": true
   },
   "outputs": [
    {
     "name": "stdout",
     "output_type": "stream",
     "text": [
      "Fitting 5 folds for each of 30 candidates, totalling 150 fits\n",
      "[CV] tfidf__max_df=0.9, tfidf__ngram_range=(1, 2), tfidf__min_df=0.01 \n",
      "[CV] tfidf__max_df=0.9, tfidf__ngram_range=(1, 2), tfidf__min_df=0.01 \n",
      "[CV] tfidf__max_df=0.9, tfidf__ngram_range=(1, 2), tfidf__min_df=0.01 \n",
      "[CV] tfidf__max_df=0.9, tfidf__ngram_range=(1, 2), tfidf__min_df=0.01 \n",
      "[CV]  tfidf__max_df=0.9, tfidf__ngram_range=(1, 2), tfidf__min_df=0.01, score=0.8474, total= 5.7min\n",
      "[CV] tfidf__max_df=0.9, tfidf__ngram_range=(1, 2), tfidf__min_df=0.01 \n",
      "[CV]  tfidf__max_df=0.9, tfidf__ngram_range=(1, 2), tfidf__min_df=0.01, score=0.8524, total= 5.7min\n",
      "[CV] tfidf__max_df=0.9, tfidf__ngram_range=(1, 1), tfidf__min_df=0.05 \n",
      "[CV]  tfidf__max_df=0.9, tfidf__ngram_range=(1, 2), tfidf__min_df=0.01, score=0.8504, total= 5.7min\n",
      "[CV] tfidf__max_df=0.9, tfidf__ngram_range=(1, 1), tfidf__min_df=0.05 \n",
      "[CV]  tfidf__max_df=0.9, tfidf__ngram_range=(1, 2), tfidf__min_df=0.01, score=0.858, total= 5.7min\n",
      "[CV] tfidf__max_df=0.9, tfidf__ngram_range=(1, 1), tfidf__min_df=0.05 \n",
      "[CV]  tfidf__max_df=0.9, tfidf__ngram_range=(1, 1), tfidf__min_df=0.05, score=0.81, total= 2.8min\n",
      "[CV] tfidf__max_df=0.9, tfidf__ngram_range=(1, 1), tfidf__min_df=0.05 \n",
      "[CV]  tfidf__max_df=0.9, tfidf__ngram_range=(1, 1), tfidf__min_df=0.05, score=0.814, total= 2.8min\n",
      "[CV] tfidf__max_df=0.9, tfidf__ngram_range=(1, 1), tfidf__min_df=0.05 \n",
      "[CV]  tfidf__max_df=0.9, tfidf__ngram_range=(1, 1), tfidf__min_df=0.05, score=0.8044, total= 2.8min\n",
      "[CV] tfidf__max_df=0.8, tfidf__ngram_range=(1, 1), tfidf__min_df=0.03 \n",
      "[CV]  tfidf__max_df=0.9, tfidf__ngram_range=(1, 2), tfidf__min_df=0.01, score=0.8544, total= 5.5min\n",
      "[CV] tfidf__max_df=0.8, tfidf__ngram_range=(1, 1), tfidf__min_df=0.03 \n",
      "[CV]  tfidf__max_df=0.9, tfidf__ngram_range=(1, 1), tfidf__min_df=0.05, score=0.8188, total= 2.8min\n",
      "[CV] tfidf__max_df=0.8, tfidf__ngram_range=(1, 1), tfidf__min_df=0.03 \n",
      "[CV]  tfidf__max_df=0.9, tfidf__ngram_range=(1, 1), tfidf__min_df=0.05, score=0.8018, total= 2.8min\n",
      "[CV] tfidf__max_df=0.8, tfidf__ngram_range=(1, 1), tfidf__min_df=0.03 \n",
      "[CV]  tfidf__max_df=0.8, tfidf__ngram_range=(1, 1), tfidf__min_df=0.03, score=0.8236, total= 3.5min\n",
      "[CV] tfidf__max_df=0.8, tfidf__ngram_range=(1, 1), tfidf__min_df=0.03 \n",
      "[CV]  tfidf__max_df=0.8, tfidf__ngram_range=(1, 1), tfidf__min_df=0.03, score=0.8366, total= 3.5min\n",
      "[CV] tfidf__max_df=0.8, tfidf__ngram_range=(1, 1), tfidf__min_df=0.07 \n",
      "[CV]  tfidf__max_df=0.8, tfidf__ngram_range=(1, 1), tfidf__min_df=0.03, score=0.8236, total= 3.5min\n",
      "[CV] tfidf__max_df=0.8, tfidf__ngram_range=(1, 1), tfidf__min_df=0.07 \n",
      "[CV]  tfidf__max_df=0.8, tfidf__ngram_range=(1, 1), tfidf__min_df=0.03, score=0.8358, total= 3.5min\n",
      "[CV] tfidf__max_df=0.8, tfidf__ngram_range=(1, 1), tfidf__min_df=0.07 \n",
      "[CV]  tfidf__max_df=0.8, tfidf__ngram_range=(1, 1), tfidf__min_df=0.03, score=0.8354, total= 3.5min\n",
      "[CV] tfidf__max_df=0.8, tfidf__ngram_range=(1, 1), tfidf__min_df=0.07 \n",
      "[CV]  tfidf__max_df=0.8, tfidf__ngram_range=(1, 1), tfidf__min_df=0.07, score=0.7716, total= 2.1min\n",
      "[CV] tfidf__max_df=0.8, tfidf__ngram_range=(1, 1), tfidf__min_df=0.07 \n",
      "[CV]  tfidf__max_df=0.8, tfidf__ngram_range=(1, 1), tfidf__min_df=0.07, score=0.7682, total= 2.1min\n",
      "[CV] tfidf__max_df=0.8, tfidf__ngram_range=(1, 1), tfidf__min_df=0.09 \n",
      "[CV]  tfidf__max_df=0.8, tfidf__ngram_range=(1, 1), tfidf__min_df=0.07, score=0.7706, total= 2.1min\n",
      "[CV] tfidf__max_df=0.8, tfidf__ngram_range=(1, 1), tfidf__min_df=0.09 \n",
      "[CV]  tfidf__max_df=0.8, tfidf__ngram_range=(1, 1), tfidf__min_df=0.07, score=0.7778, total= 2.1min\n",
      "[CV] tfidf__max_df=0.8, tfidf__ngram_range=(1, 1), tfidf__min_df=0.09 \n",
      "[CV]  tfidf__max_df=0.8, tfidf__ngram_range=(1, 1), tfidf__min_df=0.09, score=0.738, total= 1.8min\n",
      "[CV] tfidf__max_df=0.8, tfidf__ngram_range=(1, 1), tfidf__min_df=0.09 \n",
      "[CV]  tfidf__max_df=0.8, tfidf__ngram_range=(1, 1), tfidf__min_df=0.09, score=0.745, total= 1.8min\n",
      "[CV] tfidf__max_df=0.8, tfidf__ngram_range=(1, 1), tfidf__min_df=0.09 \n",
      "[CV]  tfidf__max_df=0.8, tfidf__ngram_range=(1, 1), tfidf__min_df=0.07, score=0.7706, total= 2.1min\n",
      "[CV] tfidf__max_df=0.75, tfidf__ngram_range=(1, 3), tfidf__min_df=0.09 \n",
      "[CV]  tfidf__max_df=0.8, tfidf__ngram_range=(1, 1), tfidf__min_df=0.09, score=0.7346, total= 1.8min\n",
      "[CV] tfidf__max_df=0.75, tfidf__ngram_range=(1, 3), tfidf__min_df=0.09 \n",
      "[CV]  tfidf__max_df=0.8, tfidf__ngram_range=(1, 1), tfidf__min_df=0.09, score=0.7384, total= 1.7min\n"
     ]
    },
    {
     "name": "stderr",
     "output_type": "stream",
     "text": [
      "[Parallel(n_jobs=-1)]: Done  24 tasks      | elapsed: 21.8min\n"
     ]
    },
    {
     "name": "stdout",
     "output_type": "stream",
     "text": [
      "[CV] tfidf__max_df=0.75, tfidf__ngram_range=(1, 3), tfidf__min_df=0.09 \n",
      "[CV]  tfidf__max_df=0.8, tfidf__ngram_range=(1, 1), tfidf__min_df=0.09, score=0.7292, total= 1.7min\n",
      "[CV] tfidf__max_df=0.75, tfidf__ngram_range=(1, 3), tfidf__min_df=0.09 \n",
      "[CV]  tfidf__max_df=0.75, tfidf__ngram_range=(1, 3), tfidf__min_df=0.09, score=0.738, total= 2.8min\n",
      "[CV] tfidf__max_df=0.75, tfidf__ngram_range=(1, 3), tfidf__min_df=0.09 \n",
      "[CV]  tfidf__max_df=0.75, tfidf__ngram_range=(1, 3), tfidf__min_df=0.09, score=0.745, total= 2.8min\n",
      "[CV] tfidf__max_df=0.9, tfidf__ngram_range=(1, 1), tfidf__min_df=0.03 \n",
      "[CV]  tfidf__max_df=0.75, tfidf__ngram_range=(1, 3), tfidf__min_df=0.09, score=0.7346, total= 2.9min\n",
      "[CV] tfidf__max_df=0.9, tfidf__ngram_range=(1, 1), tfidf__min_df=0.03 \n",
      "[CV]  tfidf__max_df=0.75, tfidf__ngram_range=(1, 3), tfidf__min_df=0.09, score=0.7384, total= 2.9min\n",
      "[CV] tfidf__max_df=0.9, tfidf__ngram_range=(1, 1), tfidf__min_df=0.03 \n",
      "[CV]  tfidf__max_df=0.75, tfidf__ngram_range=(1, 3), tfidf__min_df=0.09, score=0.7292, total= 2.9min\n",
      "[CV] tfidf__max_df=0.9, tfidf__ngram_range=(1, 1), tfidf__min_df=0.03 \n",
      "[CV]  tfidf__max_df=0.9, tfidf__ngram_range=(1, 1), tfidf__min_df=0.03, score=0.8236, total= 3.4min\n",
      "[CV] tfidf__max_df=0.9, tfidf__ngram_range=(1, 1), tfidf__min_df=0.03 \n",
      "[CV]  tfidf__max_df=0.9, tfidf__ngram_range=(1, 1), tfidf__min_df=0.03, score=0.8366, total= 3.6min\n",
      "[CV] tfidf__max_df=0.9, tfidf__ngram_range=(1, 2), tfidf__min_df=0.07 \n",
      "[CV]  tfidf__max_df=0.9, tfidf__ngram_range=(1, 1), tfidf__min_df=0.03, score=0.8236, total= 3.8min\n",
      "[CV] tfidf__max_df=0.9, tfidf__ngram_range=(1, 2), tfidf__min_df=0.07 \n",
      "[CV]  tfidf__max_df=0.9, tfidf__ngram_range=(1, 1), tfidf__min_df=0.03, score=0.8358, total= 3.8min\n",
      "[CV] tfidf__max_df=0.9, tfidf__ngram_range=(1, 2), tfidf__min_df=0.07 \n",
      "[CV]  tfidf__max_df=0.9, tfidf__ngram_range=(1, 1), tfidf__min_df=0.03, score=0.8354, total= 3.8min\n",
      "[CV] tfidf__max_df=0.9, tfidf__ngram_range=(1, 2), tfidf__min_df=0.07 \n",
      "[CV]  tfidf__max_df=0.9, tfidf__ngram_range=(1, 2), tfidf__min_df=0.07, score=0.7716, total= 2.9min\n",
      "[CV] tfidf__max_df=0.9, tfidf__ngram_range=(1, 2), tfidf__min_df=0.07 \n",
      "[CV]  tfidf__max_df=0.9, tfidf__ngram_range=(1, 2), tfidf__min_df=0.07, score=0.7682, total= 2.9min\n",
      "[CV] tfidf__max_df=0.85, tfidf__ngram_range=(1, 3), tfidf__min_df=0.07 \n",
      "[CV]  tfidf__max_df=0.9, tfidf__ngram_range=(1, 2), tfidf__min_df=0.07, score=0.7706, total= 2.8min\n",
      "[CV] tfidf__max_df=0.85, tfidf__ngram_range=(1, 3), tfidf__min_df=0.07 \n",
      "[CV]  tfidf__max_df=0.9, tfidf__ngram_range=(1, 2), tfidf__min_df=0.07, score=0.7778, total= 2.8min\n",
      "[CV] tfidf__max_df=0.85, tfidf__ngram_range=(1, 3), tfidf__min_df=0.07 \n",
      "[CV]  tfidf__max_df=0.9, tfidf__ngram_range=(1, 2), tfidf__min_df=0.07, score=0.7706, total= 2.9min\n",
      "[CV] tfidf__max_df=0.85, tfidf__ngram_range=(1, 3), tfidf__min_df=0.07 \n",
      "[CV]  tfidf__max_df=0.85, tfidf__ngram_range=(1, 3), tfidf__min_df=0.07, score=0.7716, total= 3.5min\n",
      "[CV] tfidf__max_df=0.85, tfidf__ngram_range=(1, 3), tfidf__min_df=0.07 \n",
      "[CV]  tfidf__max_df=0.85, tfidf__ngram_range=(1, 3), tfidf__min_df=0.07, score=0.7682, total= 3.3min\n",
      "[CV] tfidf__max_df=0.75, tfidf__ngram_range=(1, 2), tfidf__min_df=0.05 \n",
      "[CV]  tfidf__max_df=0.85, tfidf__ngram_range=(1, 3), tfidf__min_df=0.07, score=0.7706, total= 3.2min\n",
      "[CV] tfidf__max_df=0.75, tfidf__ngram_range=(1, 2), tfidf__min_df=0.05 \n",
      "[CV]  tfidf__max_df=0.85, tfidf__ngram_range=(1, 3), tfidf__min_df=0.07, score=0.7778, total= 3.2min\n",
      "[CV] tfidf__max_df=0.75, tfidf__ngram_range=(1, 2), tfidf__min_df=0.05 \n",
      "[CV]  tfidf__max_df=0.85, tfidf__ngram_range=(1, 3), tfidf__min_df=0.07, score=0.7706, total= 3.2min\n",
      "[CV] tfidf__max_df=0.75, tfidf__ngram_range=(1, 2), tfidf__min_df=0.05 \n",
      "[CV]  tfidf__max_df=0.75, tfidf__ngram_range=(1, 2), tfidf__min_df=0.05, score=0.8092, total= 3.1min\n",
      "[CV] tfidf__max_df=0.75, tfidf__ngram_range=(1, 2), tfidf__min_df=0.05 \n",
      "[CV]  tfidf__max_df=0.75, tfidf__ngram_range=(1, 2), tfidf__min_df=0.05, score=0.813, total= 3.1min\n",
      "[CV] tfidf__max_df=0.9, tfidf__ngram_range=(1, 3), tfidf__min_df=0.05 \n",
      "[CV]  tfidf__max_df=0.75, tfidf__ngram_range=(1, 2), tfidf__min_df=0.05, score=0.8038, total= 3.1min\n",
      "[CV] tfidf__max_df=0.9, tfidf__ngram_range=(1, 3), tfidf__min_df=0.05 \n",
      "[CV]  tfidf__max_df=0.75, tfidf__ngram_range=(1, 2), tfidf__min_df=0.05, score=0.8186, total= 3.1min\n",
      "[CV] tfidf__max_df=0.9, tfidf__ngram_range=(1, 3), tfidf__min_df=0.05 \n",
      "[CV]  tfidf__max_df=0.75, tfidf__ngram_range=(1, 2), tfidf__min_df=0.05, score=0.8052, total= 3.0min\n",
      "[CV] tfidf__max_df=0.9, tfidf__ngram_range=(1, 3), tfidf__min_df=0.05 \n",
      "[CV]  tfidf__max_df=0.9, tfidf__ngram_range=(1, 3), tfidf__min_df=0.05, score=0.8092, total= 3.7min\n",
      "[CV] tfidf__max_df=0.9, tfidf__ngram_range=(1, 3), tfidf__min_df=0.05 \n",
      "[CV]  tfidf__max_df=0.9, tfidf__ngram_range=(1, 3), tfidf__min_df=0.05, score=0.813, total= 3.7min\n",
      "[CV] tfidf__max_df=0.85, tfidf__ngram_range=(1, 2), tfidf__min_df=0.07 \n",
      "[CV]  tfidf__max_df=0.9, tfidf__ngram_range=(1, 3), tfidf__min_df=0.05, score=0.8038, total= 3.7min\n",
      "[CV] tfidf__max_df=0.85, tfidf__ngram_range=(1, 2), tfidf__min_df=0.07 \n",
      "[CV]  tfidf__max_df=0.9, tfidf__ngram_range=(1, 3), tfidf__min_df=0.05, score=0.8186, total= 3.7min\n",
      "[CV] tfidf__max_df=0.85, tfidf__ngram_range=(1, 2), tfidf__min_df=0.07 \n",
      "[CV]  tfidf__max_df=0.85, tfidf__ngram_range=(1, 2), tfidf__min_df=0.07, score=0.7716, total= 2.5min\n",
      "[CV] tfidf__max_df=0.85, tfidf__ngram_range=(1, 2), tfidf__min_df=0.07 \n",
      "[CV]  tfidf__max_df=0.9, tfidf__ngram_range=(1, 3), tfidf__min_df=0.05, score=0.8052, total= 3.8min\n",
      "[CV] tfidf__max_df=0.85, tfidf__ngram_range=(1, 2), tfidf__min_df=0.07 \n",
      "[CV]  tfidf__max_df=0.85, tfidf__ngram_range=(1, 2), tfidf__min_df=0.07, score=0.7682, total= 2.5min\n",
      "[CV] tfidf__max_df=0.85, tfidf__ngram_range=(1, 1), tfidf__min_df=0.05 \n",
      "[CV]  tfidf__max_df=0.85, tfidf__ngram_range=(1, 2), tfidf__min_df=0.07, score=0.7706, total= 2.6min\n",
      "[CV] tfidf__max_df=0.85, tfidf__ngram_range=(1, 1), tfidf__min_df=0.05 \n",
      "[CV]  tfidf__max_df=0.85, tfidf__ngram_range=(1, 2), tfidf__min_df=0.07, score=0.7778, total= 2.6min\n",
      "[CV] tfidf__max_df=0.85, tfidf__ngram_range=(1, 1), tfidf__min_df=0.05 \n",
      "[CV]  tfidf__max_df=0.85, tfidf__ngram_range=(1, 2), tfidf__min_df=0.07, score=0.7706, total= 2.6min\n",
      "[CV] tfidf__max_df=0.85, tfidf__ngram_range=(1, 1), tfidf__min_df=0.05 \n",
      "[CV]  tfidf__max_df=0.85, tfidf__ngram_range=(1, 1), tfidf__min_df=0.05, score=0.81, total= 2.7min\n",
      "[CV] tfidf__max_df=0.85, tfidf__ngram_range=(1, 1), tfidf__min_df=0.05 \n",
      "[CV]  tfidf__max_df=0.85, tfidf__ngram_range=(1, 1), tfidf__min_df=0.05, score=0.814, total= 2.6min\n",
      "[CV] tfidf__max_df=0.8, tfidf__ngram_range=(1, 2), tfidf__min_df=0.05 \n",
      "[CV]  tfidf__max_df=0.85, tfidf__ngram_range=(1, 1), tfidf__min_df=0.05, score=0.8044, total= 2.6min\n",
      "[CV] tfidf__max_df=0.8, tfidf__ngram_range=(1, 2), tfidf__min_df=0.05 \n",
      "[CV]  tfidf__max_df=0.85, tfidf__ngram_range=(1, 1), tfidf__min_df=0.05, score=0.8188, total= 2.7min\n",
      "[CV] tfidf__max_df=0.8, tfidf__ngram_range=(1, 2), tfidf__min_df=0.05 \n",
      "[CV]  tfidf__max_df=0.85, tfidf__ngram_range=(1, 1), tfidf__min_df=0.05, score=0.8018, total= 2.6min\n",
      "[CV] tfidf__max_df=0.8, tfidf__ngram_range=(1, 2), tfidf__min_df=0.05 \n",
      "[CV]  tfidf__max_df=0.8, tfidf__ngram_range=(1, 2), tfidf__min_df=0.05, score=0.8092, total= 3.2min\n",
      "[CV] tfidf__max_df=0.8, tfidf__ngram_range=(1, 2), tfidf__min_df=0.05 \n",
      "[CV]  tfidf__max_df=0.8, tfidf__ngram_range=(1, 2), tfidf__min_df=0.05, score=0.813, total= 3.1min\n",
      "[CV] tfidf__max_df=0.75, tfidf__ngram_range=(1, 3), tfidf__min_df=0.03 \n",
      "[CV]  tfidf__max_df=0.8, tfidf__ngram_range=(1, 2), tfidf__min_df=0.05, score=0.8038, total= 3.1min\n",
      "[CV] tfidf__max_df=0.75, tfidf__ngram_range=(1, 3), tfidf__min_df=0.03 \n",
      "[CV]  tfidf__max_df=0.8, tfidf__ngram_range=(1, 2), tfidf__min_df=0.05, score=0.8186, total= 3.1min\n",
      "[CV] tfidf__max_df=0.75, tfidf__ngram_range=(1, 3), tfidf__min_df=0.03 \n",
      "[CV]  tfidf__max_df=0.8, tfidf__ngram_range=(1, 2), tfidf__min_df=0.05, score=0.8052, total= 3.0min\n",
      "[CV] tfidf__max_df=0.75, tfidf__ngram_range=(1, 3), tfidf__min_df=0.03 \n",
      "[CV]  tfidf__max_df=0.75, tfidf__ngram_range=(1, 3), tfidf__min_df=0.03, score=0.8284, total= 4.4min\n",
      "[CV] tfidf__max_df=0.75, tfidf__ngram_range=(1, 3), tfidf__min_df=0.03 \n",
      "[CV]  tfidf__max_df=0.75, tfidf__ngram_range=(1, 3), tfidf__min_df=0.03, score=0.836, total= 4.5min\n"
     ]
    },
    {
     "name": "stdout",
     "output_type": "stream",
     "text": [
      "[CV] tfidf__max_df=0.8, tfidf__ngram_range=(1, 2), tfidf__min_df=0.07 \n",
      "[CV]  tfidf__max_df=0.75, tfidf__ngram_range=(1, 3), tfidf__min_df=0.03, score=0.8214, total= 4.5min\n",
      "[CV] tfidf__max_df=0.8, tfidf__ngram_range=(1, 2), tfidf__min_df=0.07 \n",
      "[CV]  tfidf__max_df=0.75, tfidf__ngram_range=(1, 3), tfidf__min_df=0.03, score=0.8376, total= 4.4min\n",
      "[CV] tfidf__max_df=0.8, tfidf__ngram_range=(1, 2), tfidf__min_df=0.07 \n",
      "[CV]  tfidf__max_df=0.8, tfidf__ngram_range=(1, 2), tfidf__min_df=0.07, score=0.7716, total= 2.5min\n",
      "[CV] tfidf__max_df=0.8, tfidf__ngram_range=(1, 2), tfidf__min_df=0.07 \n",
      "[CV]  tfidf__max_df=0.8, tfidf__ngram_range=(1, 2), tfidf__min_df=0.07, score=0.7682, total= 2.5min\n",
      "[CV] tfidf__max_df=0.8, tfidf__ngram_range=(1, 2), tfidf__min_df=0.07 \n",
      "[CV]  tfidf__max_df=0.75, tfidf__ngram_range=(1, 3), tfidf__min_df=0.03, score=0.8292, total= 4.4min\n",
      "[CV] tfidf__max_df=0.85, tfidf__ngram_range=(1, 2), tfidf__min_df=0.05 \n",
      "[CV]  tfidf__max_df=0.8, tfidf__ngram_range=(1, 2), tfidf__min_df=0.07, score=0.7706, total= 2.5min\n",
      "[CV] tfidf__max_df=0.85, tfidf__ngram_range=(1, 2), tfidf__min_df=0.05 \n",
      "[CV]  tfidf__max_df=0.8, tfidf__ngram_range=(1, 2), tfidf__min_df=0.07, score=0.7778, total= 2.5min\n",
      "[CV] tfidf__max_df=0.85, tfidf__ngram_range=(1, 2), tfidf__min_df=0.05 \n",
      "[CV]  tfidf__max_df=0.8, tfidf__ngram_range=(1, 2), tfidf__min_df=0.07, score=0.7706, total= 2.5min\n",
      "[CV] tfidf__max_df=0.85, tfidf__ngram_range=(1, 2), tfidf__min_df=0.05 \n",
      "[CV]  tfidf__max_df=0.85, tfidf__ngram_range=(1, 2), tfidf__min_df=0.05, score=0.8092, total= 3.0min\n",
      "[CV] tfidf__max_df=0.85, tfidf__ngram_range=(1, 2), tfidf__min_df=0.05 \n",
      "[CV]  tfidf__max_df=0.85, tfidf__ngram_range=(1, 2), tfidf__min_df=0.05, score=0.813, total= 3.1min\n",
      "[CV] tfidf__max_df=0.75, tfidf__ngram_range=(1, 1), tfidf__min_df=0.03 \n",
      "[CV]  tfidf__max_df=0.85, tfidf__ngram_range=(1, 2), tfidf__min_df=0.05, score=0.8038, total= 3.2min\n",
      "[CV] tfidf__max_df=0.75, tfidf__ngram_range=(1, 1), tfidf__min_df=0.03 \n",
      "[CV]  tfidf__max_df=0.85, tfidf__ngram_range=(1, 2), tfidf__min_df=0.05, score=0.8186, total= 3.2min\n",
      "[CV] tfidf__max_df=0.75, tfidf__ngram_range=(1, 1), tfidf__min_df=0.03 \n",
      "[CV]  tfidf__max_df=0.85, tfidf__ngram_range=(1, 2), tfidf__min_df=0.05, score=0.8052, total= 3.3min\n",
      "[CV] tfidf__max_df=0.75, tfidf__ngram_range=(1, 1), tfidf__min_df=0.03 \n",
      "[CV]  tfidf__max_df=0.75, tfidf__ngram_range=(1, 1), tfidf__min_df=0.03, score=0.8236, total= 3.5min\n",
      "[CV] tfidf__max_df=0.75, tfidf__ngram_range=(1, 1), tfidf__min_df=0.03 \n",
      "[CV]  tfidf__max_df=0.75, tfidf__ngram_range=(1, 1), tfidf__min_df=0.03, score=0.8366, total= 3.5min\n",
      "[CV] tfidf__max_df=0.75, tfidf__ngram_range=(1, 3), tfidf__min_df=0.05 \n",
      "[CV]  tfidf__max_df=0.75, tfidf__ngram_range=(1, 1), tfidf__min_df=0.03, score=0.8236, total= 3.5min\n",
      "[CV] tfidf__max_df=0.75, tfidf__ngram_range=(1, 3), tfidf__min_df=0.05 \n",
      "[CV]  tfidf__max_df=0.75, tfidf__ngram_range=(1, 1), tfidf__min_df=0.03, score=0.8358, total= 3.3min\n",
      "[CV] tfidf__max_df=0.75, tfidf__ngram_range=(1, 3), tfidf__min_df=0.05 \n",
      "[CV]  tfidf__max_df=0.75, tfidf__ngram_range=(1, 1), tfidf__min_df=0.03, score=0.8354, total= 3.3min\n",
      "[CV] tfidf__max_df=0.75, tfidf__ngram_range=(1, 3), tfidf__min_df=0.05 \n",
      "[CV]  tfidf__max_df=0.75, tfidf__ngram_range=(1, 3), tfidf__min_df=0.05, score=0.8092, total= 3.7min\n",
      "[CV] tfidf__max_df=0.75, tfidf__ngram_range=(1, 3), tfidf__min_df=0.05 \n",
      "[CV]  tfidf__max_df=0.75, tfidf__ngram_range=(1, 3), tfidf__min_df=0.05, score=0.813, total= 3.7min\n",
      "[CV] tfidf__max_df=0.85, tfidf__ngram_range=(1, 1), tfidf__min_df=0.09 \n",
      "[CV]  tfidf__max_df=0.75, tfidf__ngram_range=(1, 3), tfidf__min_df=0.05, score=0.8038, total= 3.7min\n",
      "[CV] tfidf__max_df=0.85, tfidf__ngram_range=(1, 1), tfidf__min_df=0.09 \n",
      "[CV]  tfidf__max_df=0.85, tfidf__ngram_range=(1, 1), tfidf__min_df=0.09, score=0.738, total= 1.7min\n",
      "[CV] tfidf__max_df=0.85, tfidf__ngram_range=(1, 1), tfidf__min_df=0.09 \n",
      "[CV]  tfidf__max_df=0.75, tfidf__ngram_range=(1, 3), tfidf__min_df=0.05, score=0.8186, total= 3.7min\n",
      "[CV] tfidf__max_df=0.85, tfidf__ngram_range=(1, 1), tfidf__min_df=0.09 \n",
      "[CV]  tfidf__max_df=0.85, tfidf__ngram_range=(1, 1), tfidf__min_df=0.09, score=0.745, total= 1.7min\n",
      "[CV] tfidf__max_df=0.85, tfidf__ngram_range=(1, 1), tfidf__min_df=0.09 \n",
      "[CV]  tfidf__max_df=0.85, tfidf__ngram_range=(1, 1), tfidf__min_df=0.09, score=0.7346, total= 1.7min\n",
      "[CV] tfidf__max_df=0.8, tfidf__ngram_range=(1, 3), tfidf__min_df=0.03 \n",
      "[CV]  tfidf__max_df=0.75, tfidf__ngram_range=(1, 3), tfidf__min_df=0.05, score=0.8052, total= 3.7min\n",
      "[CV] tfidf__max_df=0.8, tfidf__ngram_range=(1, 3), tfidf__min_df=0.03 \n",
      "[CV]  tfidf__max_df=0.85, tfidf__ngram_range=(1, 1), tfidf__min_df=0.09, score=0.7384, total= 1.7min\n",
      "[CV] tfidf__max_df=0.8, tfidf__ngram_range=(1, 3), tfidf__min_df=0.03 \n",
      "[CV]  tfidf__max_df=0.85, tfidf__ngram_range=(1, 1), tfidf__min_df=0.09, score=0.7292, total= 1.7min\n",
      "[CV] tfidf__max_df=0.8, tfidf__ngram_range=(1, 3), tfidf__min_df=0.03 \n",
      "[CV]  tfidf__max_df=0.8, tfidf__ngram_range=(1, 3), tfidf__min_df=0.03, score=0.8284, total= 4.5min\n",
      "[CV] tfidf__max_df=0.8, tfidf__ngram_range=(1, 3), tfidf__min_df=0.03 \n",
      "[CV]  tfidf__max_df=0.8, tfidf__ngram_range=(1, 3), tfidf__min_df=0.03, score=0.836, total= 4.5min\n",
      "[CV] tfidf__max_df=0.8, tfidf__ngram_range=(1, 2), tfidf__min_df=0.01 \n",
      "[CV]  tfidf__max_df=0.8, tfidf__ngram_range=(1, 3), tfidf__min_df=0.03, score=0.8214, total= 4.5min\n",
      "[CV] tfidf__max_df=0.8, tfidf__ngram_range=(1, 2), tfidf__min_df=0.01 \n",
      "[CV]  tfidf__max_df=0.8, tfidf__ngram_range=(1, 3), tfidf__min_df=0.03, score=0.8376, total= 4.4min\n",
      "[CV] tfidf__max_df=0.8, tfidf__ngram_range=(1, 2), tfidf__min_df=0.01 \n",
      "[CV]  tfidf__max_df=0.8, tfidf__ngram_range=(1, 3), tfidf__min_df=0.03, score=0.8292, total= 4.5min\n",
      "[CV] tfidf__max_df=0.8, tfidf__ngram_range=(1, 2), tfidf__min_df=0.01 \n",
      "[CV]  tfidf__max_df=0.8, tfidf__ngram_range=(1, 2), tfidf__min_df=0.01, score=0.8474, total= 5.1min\n",
      "[CV] tfidf__max_df=0.8, tfidf__ngram_range=(1, 2), tfidf__min_df=0.01 \n",
      "[CV]  tfidf__max_df=0.8, tfidf__ngram_range=(1, 2), tfidf__min_df=0.01, score=0.8524, total= 5.1min\n",
      "[CV] tfidf__max_df=0.75, tfidf__ngram_range=(1, 2), tfidf__min_df=0.07 \n",
      "[CV]  tfidf__max_df=0.8, tfidf__ngram_range=(1, 2), tfidf__min_df=0.01, score=0.8504, total= 5.1min\n",
      "[CV] tfidf__max_df=0.75, tfidf__ngram_range=(1, 2), tfidf__min_df=0.07 \n",
      "[CV]  tfidf__max_df=0.75, tfidf__ngram_range=(1, 2), tfidf__min_df=0.07, score=0.7716, total= 2.5min\n",
      "[CV] tfidf__max_df=0.75, tfidf__ngram_range=(1, 2), tfidf__min_df=0.07 \n",
      "[CV]  tfidf__max_df=0.75, tfidf__ngram_range=(1, 2), tfidf__min_df=0.07, score=0.7682, total= 2.5min\n",
      "[CV] tfidf__max_df=0.75, tfidf__ngram_range=(1, 2), tfidf__min_df=0.07 \n",
      "[CV]  tfidf__max_df=0.8, tfidf__ngram_range=(1, 2), tfidf__min_df=0.01, score=0.858, total= 5.2min\n",
      "[CV] tfidf__max_df=0.75, tfidf__ngram_range=(1, 2), tfidf__min_df=0.07 \n",
      "[CV]  tfidf__max_df=0.8, tfidf__ngram_range=(1, 2), tfidf__min_df=0.01, score=0.8544, total= 5.2min\n",
      "[CV] tfidf__max_df=0.9, tfidf__ngram_range=(1, 1), tfidf__min_df=0.07 \n",
      "[CV]  tfidf__max_df=0.75, tfidf__ngram_range=(1, 2), tfidf__min_df=0.07, score=0.7706, total= 2.5min\n",
      "[CV] tfidf__max_df=0.9, tfidf__ngram_range=(1, 1), tfidf__min_df=0.07 \n",
      "[CV]  tfidf__max_df=0.75, tfidf__ngram_range=(1, 2), tfidf__min_df=0.07, score=0.7778, total= 2.5min\n",
      "[CV] tfidf__max_df=0.9, tfidf__ngram_range=(1, 1), tfidf__min_df=0.07 \n",
      "[CV]  tfidf__max_df=0.75, tfidf__ngram_range=(1, 2), tfidf__min_df=0.07, score=0.7706, total= 2.5min\n",
      "[CV] tfidf__max_df=0.9, tfidf__ngram_range=(1, 1), tfidf__min_df=0.07 \n",
      "[CV]  tfidf__max_df=0.9, tfidf__ngram_range=(1, 1), tfidf__min_df=0.07, score=0.7716, total= 2.0min\n",
      "[CV] tfidf__max_df=0.9, tfidf__ngram_range=(1, 1), tfidf__min_df=0.07 \n",
      "[CV]  tfidf__max_df=0.9, tfidf__ngram_range=(1, 1), tfidf__min_df=0.07, score=0.7682, total= 2.0min\n",
      "[CV] tfidf__max_df=0.8, tfidf__ngram_range=(1, 3), tfidf__min_df=0.01 \n",
      "[CV]  tfidf__max_df=0.9, tfidf__ngram_range=(1, 1), tfidf__min_df=0.07, score=0.7706, total= 2.0min\n",
      "[CV] tfidf__max_df=0.8, tfidf__ngram_range=(1, 3), tfidf__min_df=0.01 \n",
      "[CV]  tfidf__max_df=0.9, tfidf__ngram_range=(1, 1), tfidf__min_df=0.07, score=0.7778, total= 2.0min\n",
      "[CV] tfidf__max_df=0.8, tfidf__ngram_range=(1, 3), tfidf__min_df=0.01 \n",
      "[CV]  tfidf__max_df=0.9, tfidf__ngram_range=(1, 1), tfidf__min_df=0.07, score=0.7706, total= 2.0min\n"
     ]
    },
    {
     "name": "stderr",
     "output_type": "stream",
     "text": [
      "[Parallel(n_jobs=-1)]: Done 120 tasks      | elapsed: 106.2min\n"
     ]
    },
    {
     "name": "stdout",
     "output_type": "stream",
     "text": [
      "[CV] tfidf__max_df=0.8, tfidf__ngram_range=(1, 3), tfidf__min_df=0.01 \n",
      "[CV]  tfidf__max_df=0.8, tfidf__ngram_range=(1, 3), tfidf__min_df=0.01, score=0.8474, total= 5.8min\n",
      "[CV] tfidf__max_df=0.8, tfidf__ngram_range=(1, 3), tfidf__min_df=0.01 \n",
      "[CV]  tfidf__max_df=0.8, tfidf__ngram_range=(1, 3), tfidf__min_df=0.01, score=0.8524, total= 5.9min\n",
      "[CV] tfidf__max_df=0.8, tfidf__ngram_range=(1, 1), tfidf__min_df=0.05 \n",
      "[CV]  tfidf__max_df=0.8, tfidf__ngram_range=(1, 3), tfidf__min_df=0.01, score=0.8504, total= 5.9min\n",
      "[CV] tfidf__max_df=0.8, tfidf__ngram_range=(1, 1), tfidf__min_df=0.05 \n",
      "[CV]  tfidf__max_df=0.8, tfidf__ngram_range=(1, 3), tfidf__min_df=0.01, score=0.858, total= 5.9min\n",
      "[CV] tfidf__max_df=0.8, tfidf__ngram_range=(1, 1), tfidf__min_df=0.05 \n",
      "[CV]  tfidf__max_df=0.8, tfidf__ngram_range=(1, 1), tfidf__min_df=0.05, score=0.81, total= 2.6min\n",
      "[CV] tfidf__max_df=0.8, tfidf__ngram_range=(1, 1), tfidf__min_df=0.05 \n",
      "[CV]  tfidf__max_df=0.8, tfidf__ngram_range=(1, 1), tfidf__min_df=0.05, score=0.814, total= 2.6min\n",
      "[CV] tfidf__max_df=0.8, tfidf__ngram_range=(1, 1), tfidf__min_df=0.05 \n",
      "[CV]  tfidf__max_df=0.8, tfidf__ngram_range=(1, 1), tfidf__min_df=0.05, score=0.8044, total= 2.6min\n",
      "[CV] tfidf__max_df=0.75, tfidf__ngram_range=(1, 3), tfidf__min_df=0.01 \n",
      "[CV]  tfidf__max_df=0.8, tfidf__ngram_range=(1, 3), tfidf__min_df=0.01, score=0.8544, total= 5.9min\n",
      "[CV] tfidf__max_df=0.75, tfidf__ngram_range=(1, 3), tfidf__min_df=0.01 \n",
      "[CV]  tfidf__max_df=0.8, tfidf__ngram_range=(1, 1), tfidf__min_df=0.05, score=0.8188, total= 2.6min\n",
      "[CV] tfidf__max_df=0.75, tfidf__ngram_range=(1, 3), tfidf__min_df=0.01 \n",
      "[CV]  tfidf__max_df=0.8, tfidf__ngram_range=(1, 1), tfidf__min_df=0.05, score=0.8018, total= 2.6min\n",
      "[CV] tfidf__max_df=0.75, tfidf__ngram_range=(1, 3), tfidf__min_df=0.01 \n",
      "[CV]  tfidf__max_df=0.75, tfidf__ngram_range=(1, 3), tfidf__min_df=0.01, score=0.8474, total= 5.8min\n",
      "[CV] tfidf__max_df=0.75, tfidf__ngram_range=(1, 3), tfidf__min_df=0.01 \n",
      "[CV]  tfidf__max_df=0.75, tfidf__ngram_range=(1, 3), tfidf__min_df=0.01, score=0.8524, total= 5.9min\n",
      "[CV] tfidf__max_df=0.75, tfidf__ngram_range=(1, 3), tfidf__min_df=0.07 \n",
      "[CV]  tfidf__max_df=0.75, tfidf__ngram_range=(1, 3), tfidf__min_df=0.01, score=0.8504, total= 5.9min\n",
      "[CV] tfidf__max_df=0.75, tfidf__ngram_range=(1, 3), tfidf__min_df=0.07 \n",
      "[CV]  tfidf__max_df=0.75, tfidf__ngram_range=(1, 3), tfidf__min_df=0.01, score=0.858, total= 5.9min\n",
      "[CV] tfidf__max_df=0.75, tfidf__ngram_range=(1, 3), tfidf__min_df=0.07 \n",
      "[CV]  tfidf__max_df=0.75, tfidf__ngram_range=(1, 3), tfidf__min_df=0.07, score=0.7716, total= 3.2min\n",
      "[CV] tfidf__max_df=0.75, tfidf__ngram_range=(1, 3), tfidf__min_df=0.07 \n",
      "[CV]  tfidf__max_df=0.75, tfidf__ngram_range=(1, 3), tfidf__min_df=0.07, score=0.7682, total= 3.2min\n",
      "[CV] tfidf__max_df=0.75, tfidf__ngram_range=(1, 3), tfidf__min_df=0.07 \n",
      "[CV]  tfidf__max_df=0.75, tfidf__ngram_range=(1, 3), tfidf__min_df=0.07, score=0.7706, total= 3.2min\n",
      "[CV] tfidf__max_df=0.8, tfidf__ngram_range=(1, 3), tfidf__min_df=0.09 \n",
      "[CV]  tfidf__max_df=0.75, tfidf__ngram_range=(1, 3), tfidf__min_df=0.01, score=0.8544, total= 5.8min\n",
      "[CV] tfidf__max_df=0.8, tfidf__ngram_range=(1, 3), tfidf__min_df=0.09 \n",
      "[CV]  tfidf__max_df=0.75, tfidf__ngram_range=(1, 3), tfidf__min_df=0.07, score=0.7778, total= 3.2min\n",
      "[CV] tfidf__max_df=0.8, tfidf__ngram_range=(1, 3), tfidf__min_df=0.09 \n",
      "[CV]  tfidf__max_df=0.75, tfidf__ngram_range=(1, 3), tfidf__min_df=0.07, score=0.7706, total= 3.2min\n",
      "[CV] tfidf__max_df=0.8, tfidf__ngram_range=(1, 3), tfidf__min_df=0.09 \n",
      "[CV]  tfidf__max_df=0.8, tfidf__ngram_range=(1, 3), tfidf__min_df=0.09, score=0.738, total= 2.9min\n",
      "[CV] tfidf__max_df=0.8, tfidf__ngram_range=(1, 3), tfidf__min_df=0.09 \n",
      "[CV]  tfidf__max_df=0.8, tfidf__ngram_range=(1, 3), tfidf__min_df=0.09, score=0.745, total= 2.9min\n",
      "[CV] tfidf__max_df=0.85, tfidf__ngram_range=(1, 1), tfidf__min_df=0.07 \n",
      "[CV]  tfidf__max_df=0.85, tfidf__ngram_range=(1, 1), tfidf__min_df=0.07, score=0.7716, total= 2.0min\n",
      "[CV] tfidf__max_df=0.85, tfidf__ngram_range=(1, 1), tfidf__min_df=0.07 \n",
      "[CV]  tfidf__max_df=0.8, tfidf__ngram_range=(1, 3), tfidf__min_df=0.09, score=0.7346, total= 2.9min\n",
      "[CV] tfidf__max_df=0.85, tfidf__ngram_range=(1, 1), tfidf__min_df=0.07 \n",
      "[CV]  tfidf__max_df=0.8, tfidf__ngram_range=(1, 3), tfidf__min_df=0.09, score=0.7384, total= 3.0min\n",
      "[CV] tfidf__max_df=0.85, tfidf__ngram_range=(1, 1), tfidf__min_df=0.07 \n",
      "[CV]  tfidf__max_df=0.8, tfidf__ngram_range=(1, 3), tfidf__min_df=0.09, score=0.7292, total= 2.9min\n",
      "[CV] tfidf__max_df=0.85, tfidf__ngram_range=(1, 1), tfidf__min_df=0.07 \n",
      "[CV]  tfidf__max_df=0.85, tfidf__ngram_range=(1, 1), tfidf__min_df=0.07, score=0.7682, total= 2.1min\n",
      "[CV]  tfidf__max_df=0.85, tfidf__ngram_range=(1, 1), tfidf__min_df=0.07, score=0.7706, total= 2.1min\n",
      "[CV]  tfidf__max_df=0.85, tfidf__ngram_range=(1, 1), tfidf__min_df=0.07, score=0.7778, total= 1.9min\n",
      "[CV]  tfidf__max_df=0.85, tfidf__ngram_range=(1, 1), tfidf__min_df=0.07, score=0.7706, total= 1.8min\n"
     ]
    },
    {
     "name": "stderr",
     "output_type": "stream",
     "text": [
      "[Parallel(n_jobs=-1)]: Done 150 out of 150 | elapsed: 136.5min finished\n"
     ]
    },
    {
     "name": "stdout",
     "output_type": "stream",
     "text": [
      "Tuned SGD Parameters: {'tfidf__max_df': 0.90000000000000013, 'tfidf__ngram_range': (1, 2), 'tfidf__min_df': 0.01}\n",
      "Best score is 0.85252\n"
     ]
    }
   ],
   "source": [
    "# Import necessary modules // https://stackoverflow.com/questions/44066264/how-to-choose-parameters-in-tfidfvectorizer-in-sklearn-during-unsupervised-clust\n",
    "# optimize vectorizer parameters\n",
    "from scipy.stats import randint\n",
    "from sklearn.pipeline import Pipeline\n",
    "from sklearn.model_selection import GridSearchCV, RandomizedSearchCV\n",
    "from sklearn.model_selection import cross_val_score, StratifiedKFold\n",
    "import xgboost as xg\n",
    "\n",
    "X=clean_corpus[:len(train_feats)]\n",
    "Y=train_feats['target_sentiment']\n",
    "\n",
    "pipeline = Pipeline([\n",
    "    ('tfidf', TfidfVectorizer(stop_words='english', max_features=5000,strip_accents='unicode', analyzer='word')),\n",
    "    ('clf', xg.XGBClassifier(n_estimators=900,learning_rate=0.1))\n",
    "])\n",
    "parameters = {\n",
    "    'tfidf__max_df': np.arange(0.75,0.95,.05),\n",
    "    'tfidf__min_df': np.arange(0.01,0.10,.02),\n",
    "    'tfidf__ngram_range': [(1, 1), (1, 2), (1, 3)]\n",
    "}\n",
    "\n",
    "grid_search_tune = RandomizedSearchCV(pipeline, parameters, cv=StratifiedKFold(5), n_jobs=-1, verbose=3,scoring='accuracy',n_iter=30)\n",
    "grid_search_tune.fit(X, Y)\n",
    "\n",
    "print(\"Tuned SGD Parameters: {}\".format(grid_search_tune.best_params_))\n",
    "print(\"Best score is {}\".format(grid_search_tune.best_score_))"
   ]
  },
  {
   "cell_type": "code",
   "execution_count": 67,
   "metadata": {},
   "outputs": [],
   "source": [
    "# create vectorizer\n",
    "tf_vectorizer = TfidfVectorizer(max_df=0.90,min_df=0.001,  max_features=5000, \n",
    "            strip_accents='unicode', analyzer='word',ngram_range=(1,2),\n",
    "            use_idf=1,smooth_idf=1,sublinear_tf=1,\n",
    "            stop_words = 'english')\n",
    "tf = tf_vectorizer.fit_transform(clean_corpus)"
   ]
  },
  {
   "cell_type": "code",
   "execution_count": 68,
   "metadata": {},
   "outputs": [
    {
     "name": "stdout",
     "output_type": "stream",
     "text": [
      "[u'aaron' u'abandon' u'abc' ..., u'zombie' u'zombies' u'zone']\n",
      "5000\n"
     ]
    }
   ],
   "source": [
    "features=np.array(tf_vectorizer.get_feature_names())\n",
    "print features\n",
    "print len(features)"
   ]
  },
  {
   "cell_type": "code",
   "execution_count": 69,
   "metadata": {},
   "outputs": [
    {
     "data": {
      "text/html": [
       "<div>\n",
       "<style scoped>\n",
       "    .dataframe tbody tr th:only-of-type {\n",
       "        vertical-align: middle;\n",
       "    }\n",
       "\n",
       "    .dataframe tbody tr th {\n",
       "        vertical-align: top;\n",
       "    }\n",
       "\n",
       "    .dataframe thead th {\n",
       "        text-align: right;\n",
       "    }\n",
       "</style>\n",
       "<table border=\"1\" class=\"dataframe\">\n",
       "  <thead>\n",
       "    <tr style=\"text-align: right;\">\n",
       "      <th></th>\n",
       "      <th>aaron</th>\n",
       "      <th>abandon</th>\n",
       "      <th>abc</th>\n",
       "      <th>abilities</th>\n",
       "      <th>ability</th>\n",
       "      <th>able</th>\n",
       "      <th>absence</th>\n",
       "      <th>absent</th>\n",
       "      <th>absolute</th>\n",
       "      <th>absolutely</th>\n",
       "      <th>...</th>\n",
       "      <th>young girl</th>\n",
       "      <th>young man</th>\n",
       "      <th>young people</th>\n",
       "      <th>young woman</th>\n",
       "      <th>younger</th>\n",
       "      <th>youth</th>\n",
       "      <th>zero</th>\n",
       "      <th>zombie</th>\n",
       "      <th>zombies</th>\n",
       "      <th>zone</th>\n",
       "    </tr>\n",
       "  </thead>\n",
       "  <tbody>\n",
       "    <tr>\n",
       "      <th>0</th>\n",
       "      <td>0.0</td>\n",
       "      <td>0.0</td>\n",
       "      <td>0.0</td>\n",
       "      <td>0.0</td>\n",
       "      <td>0.0</td>\n",
       "      <td>0.0</td>\n",
       "      <td>0.0</td>\n",
       "      <td>0.0</td>\n",
       "      <td>0.0</td>\n",
       "      <td>0.0</td>\n",
       "      <td>...</td>\n",
       "      <td>0.0</td>\n",
       "      <td>0.0</td>\n",
       "      <td>0.0</td>\n",
       "      <td>0.0</td>\n",
       "      <td>0.0</td>\n",
       "      <td>0.0</td>\n",
       "      <td>0.0</td>\n",
       "      <td>0.0</td>\n",
       "      <td>0.0</td>\n",
       "      <td>0.0</td>\n",
       "    </tr>\n",
       "    <tr>\n",
       "      <th>1</th>\n",
       "      <td>0.0</td>\n",
       "      <td>0.0</td>\n",
       "      <td>0.0</td>\n",
       "      <td>0.0</td>\n",
       "      <td>0.0</td>\n",
       "      <td>0.0</td>\n",
       "      <td>0.0</td>\n",
       "      <td>0.0</td>\n",
       "      <td>0.0</td>\n",
       "      <td>0.0</td>\n",
       "      <td>...</td>\n",
       "      <td>0.0</td>\n",
       "      <td>0.0</td>\n",
       "      <td>0.0</td>\n",
       "      <td>0.0</td>\n",
       "      <td>0.0</td>\n",
       "      <td>0.0</td>\n",
       "      <td>0.0</td>\n",
       "      <td>0.0</td>\n",
       "      <td>0.0</td>\n",
       "      <td>0.0</td>\n",
       "    </tr>\n",
       "    <tr>\n",
       "      <th>2</th>\n",
       "      <td>0.0</td>\n",
       "      <td>0.0</td>\n",
       "      <td>0.0</td>\n",
       "      <td>0.0</td>\n",
       "      <td>0.0</td>\n",
       "      <td>0.0</td>\n",
       "      <td>0.0</td>\n",
       "      <td>0.0</td>\n",
       "      <td>0.0</td>\n",
       "      <td>0.0</td>\n",
       "      <td>...</td>\n",
       "      <td>0.0</td>\n",
       "      <td>0.0</td>\n",
       "      <td>0.0</td>\n",
       "      <td>0.0</td>\n",
       "      <td>0.0</td>\n",
       "      <td>0.0</td>\n",
       "      <td>0.0</td>\n",
       "      <td>0.0</td>\n",
       "      <td>0.0</td>\n",
       "      <td>0.0</td>\n",
       "    </tr>\n",
       "    <tr>\n",
       "      <th>3</th>\n",
       "      <td>0.0</td>\n",
       "      <td>0.0</td>\n",
       "      <td>0.0</td>\n",
       "      <td>0.0</td>\n",
       "      <td>0.0</td>\n",
       "      <td>0.0</td>\n",
       "      <td>0.0</td>\n",
       "      <td>0.0</td>\n",
       "      <td>0.0</td>\n",
       "      <td>0.0</td>\n",
       "      <td>...</td>\n",
       "      <td>0.0</td>\n",
       "      <td>0.0</td>\n",
       "      <td>0.0</td>\n",
       "      <td>0.0</td>\n",
       "      <td>0.0</td>\n",
       "      <td>0.0</td>\n",
       "      <td>0.0</td>\n",
       "      <td>0.0</td>\n",
       "      <td>0.0</td>\n",
       "      <td>0.0</td>\n",
       "    </tr>\n",
       "    <tr>\n",
       "      <th>4</th>\n",
       "      <td>0.0</td>\n",
       "      <td>0.0</td>\n",
       "      <td>0.0</td>\n",
       "      <td>0.0</td>\n",
       "      <td>0.0</td>\n",
       "      <td>0.0</td>\n",
       "      <td>0.0</td>\n",
       "      <td>0.0</td>\n",
       "      <td>0.0</td>\n",
       "      <td>0.0</td>\n",
       "      <td>...</td>\n",
       "      <td>0.0</td>\n",
       "      <td>0.0</td>\n",
       "      <td>0.0</td>\n",
       "      <td>0.0</td>\n",
       "      <td>0.0</td>\n",
       "      <td>0.0</td>\n",
       "      <td>0.0</td>\n",
       "      <td>0.0</td>\n",
       "      <td>0.0</td>\n",
       "      <td>0.0</td>\n",
       "    </tr>\n",
       "  </tbody>\n",
       "</table>\n",
       "<p>5 rows × 5000 columns</p>\n",
       "</div>"
      ],
      "text/plain": [
       "   aaron  abandon  abc  abilities  ability  able  absence  absent  absolute  \\\n",
       "0    0.0      0.0  0.0        0.0      0.0   0.0      0.0     0.0       0.0   \n",
       "1    0.0      0.0  0.0        0.0      0.0   0.0      0.0     0.0       0.0   \n",
       "2    0.0      0.0  0.0        0.0      0.0   0.0      0.0     0.0       0.0   \n",
       "3    0.0      0.0  0.0        0.0      0.0   0.0      0.0     0.0       0.0   \n",
       "4    0.0      0.0  0.0        0.0      0.0   0.0      0.0     0.0       0.0   \n",
       "\n",
       "   absolutely  ...   young girl  young man  young people  young woman  \\\n",
       "0         0.0  ...          0.0        0.0           0.0          0.0   \n",
       "1         0.0  ...          0.0        0.0           0.0          0.0   \n",
       "2         0.0  ...          0.0        0.0           0.0          0.0   \n",
       "3         0.0  ...          0.0        0.0           0.0          0.0   \n",
       "4         0.0  ...          0.0        0.0           0.0          0.0   \n",
       "\n",
       "   younger  youth  zero  zombie  zombies  zone  \n",
       "0      0.0    0.0   0.0     0.0      0.0   0.0  \n",
       "1      0.0    0.0   0.0     0.0      0.0   0.0  \n",
       "2      0.0    0.0   0.0     0.0      0.0   0.0  \n",
       "3      0.0    0.0   0.0     0.0      0.0   0.0  \n",
       "4      0.0    0.0   0.0     0.0      0.0   0.0  \n",
       "\n",
       "[5 rows x 5000 columns]"
      ]
     },
     "execution_count": 69,
     "metadata": {},
     "output_type": "execute_result"
    }
   ],
   "source": [
    "df_12g = pd.DataFrame(tf.toarray(),columns=features)\n",
    "df_12g.head()"
   ]
  },
  {
   "cell_type": "code",
   "execution_count": 97,
   "metadata": {},
   "outputs": [
    {
     "data": {
      "text/plain": [
       "<matplotlib.axes._subplots.AxesSubplot at 0x1a22e24110>"
      ]
     },
     "execution_count": 97,
     "metadata": {},
     "output_type": "execute_result"
    },
    {
     "data": {
      "image/png": "[encoded data removed]",
      "text/plain": [
       "<matplotlib.figure.Figure at 0x1a231bfd10>"
      ]
     },
     "metadata": {},
     "output_type": "display_data"
    }
   ],
   "source": [
    "# graph most popular 1,2 grams\n",
    "df_12g_train=pd.concat([train_feats['target_sentiment'],df_12g.iloc[:len(train_feats),:]],axis=1)\n",
    "df_12g_test=df_12g.iloc[len(train_feats):,:]\n",
    "# concat train with sentiment\n",
    "# most popular/least popular for positive reviews\n",
    "top10_pos=np.sum(df_12g_train[df_12g_train.target_sentiment==1].iloc[:,1:]).sort_values(ascending=False).head(10)\n",
    "last10_pos=np.sum(df_12g_train[df_12g_train.target_sentiment==1].iloc[:,1:]).sort_values(ascending=False).tail(10)\n",
    "# most popular/least popular for negative reviews\n",
    "top10_neg=np.sum(df_12g_train[df_12g_train.target_sentiment==0].iloc[:,1:]).sort_values(ascending=False).head(10)\n",
    "last10_neg=np.sum(df_12g_train[df_12g_train.target_sentiment==0].iloc[:,1:]).sort_values(ascending=False).tail(10)\n",
    "\n",
    "#tokenizer counts number of instances per word. for instance review zero has 3 counts of film\n",
    "plt.style.use('fivethirtyeight')\n",
    "plt.figure(figsize=(28,22))\n",
    "plt.suptitle(\"TF_IDF Top words per class(unigrams/bigrams)\",fontsize=20)\n",
    "plt.subplot(221)\n",
    "plt.title(\"Top 10 Most Popular Words in Positive Reviews\")\n",
    "sns.barplot(top10_pos.index,\\\n",
    "            top10_pos)\n",
    "\n",
    "plt.subplot(222)\n",
    "plt.title(\"Top 10 Least Popular Words in Positive Reviews\")\n",
    "sns.barplot(last10_pos.index,\\\n",
    "            last10_pos)\n",
    "\n",
    "plt.subplot(223)\n",
    "plt.title(\"Top 10 Most Popular Words in Negative Reviews\")\n",
    "sns.barplot(top10_neg.index,\\\n",
    "            top10_neg)\n",
    "\n",
    "plt.subplot(224)\n",
    "plt.title(\"Top 10 Least Popular Words in Negative Reviews\")\n",
    "sns.barplot(last10_neg.index,\\\n",
    "            last10_neg)"
   ]
  },
  {
   "cell_type": "code",
   "execution_count": 108,
   "metadata": {},
   "outputs": [],
   "source": [
    "merged_desc_12g=pd.concat([df[['id','count_word','count_unique_word','count_letters','mean_word_len','word_unique_percent']],df_12g],axis=1)\n",
    "merged_desc_12g.to_csv('datasets/merged_desc_12g.csv',index=False)"
   ]
  }
 ],
 "metadata": {
  "kernelspec": {
   "display_name": "Python 2",
   "language": "python",
   "name": "python2"
  },
  "language_info": {
   "codemirror_mode": {
    "name": "ipython",
    "version": 2
   },
   "file_extension": ".py",
   "mimetype": "text/x-python",
   "name": "python",
   "nbconvert_exporter": "python",
   "pygments_lexer": "ipython2",
   "version": "2.7.14"
  }
 },
 "nbformat": 4,
 "nbformat_minor": 2
}
